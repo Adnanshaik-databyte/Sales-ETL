{
 "cells": [
  {
   "cell_type": "code",
   "execution_count": 0,
   "metadata": {
    "application/vnd.databricks.v1+cell": {
     "cellMetadata": {
      "byteLimit": 2048000,
      "rowLimit": 10000
     },
     "inputWidgets": {},
     "nuid": "65591728-3660-4105-b66a-728f0e33e107",
     "showTitle": false,
     "tableResultSettingsMap": {},
     "title": ""
    }
   },
   "outputs": [],
   "source": [
    "from pyspark.sql.functions import *\n",
    "from pyspark.sql.types import *"
   ]
  },
  {
   "cell_type": "code",
   "execution_count": 0,
   "metadata": {
    "application/vnd.databricks.v1+cell": {
     "cellMetadata": {
      "byteLimit": 2048000,
      "rowLimit": 10000
     },
     "inputWidgets": {},
     "nuid": "30907a1a-9b47-4628-b120-8acaf3510bc3",
     "showTitle": false,
     "tableResultSettingsMap": {},
     "title": ""
    }
   },
   "outputs": [
    {
     "output_type": "execute_result",
     "data": {
      "text/plain": [
       "[FileInfo(path='dbfs:/FileStore/tables/Sales_data_2k.csv', name='Sales_data_2k.csv', size=1907147, modificationTime=1750315510000),\n",
       " FileInfo(path='dbfs:/FileStore/tables/_SUCCESS', name='_SUCCESS', size=0, modificationTime=1750192059000),\n",
       " FileInfo(path='dbfs:/FileStore/tables/_committed_2318855837230609441', name='_committed_2318855837230609441', size=303, modificationTime=1750192059000),\n",
       " FileInfo(path='dbfs:/FileStore/tables/_started_2318855837230609441', name='_started_2318855837230609441', size=0, modificationTime=1750192058000),\n",
       " FileInfo(path='dbfs:/FileStore/tables/amazon/', name='amazon/', size=0, modificationTime=1749823129000),\n",
       " FileInfo(path='dbfs:/FileStore/tables/amazon-1.csv', name='amazon-1.csv', size=4744481, modificationTime=1750331780000),\n",
       " FileInfo(path='dbfs:/FileStore/tables/amazon.csv/', name='amazon.csv/', size=0, modificationTime=1750192577000),\n",
       " FileInfo(path='dbfs:/FileStore/tables/part-00000-tid-2318855837230609441-53de64ee-4612-4269-b608-f6b77d5772aa-957-1-c000.csv', name='part-00000-tid-2318855837230609441-53de64ee-4612-4269-b608-f6b77d5772aa-957-1-c000.csv', size=1161039, modificationTime=1750192059000),\n",
       " FileInfo(path='dbfs:/FileStore/tables/part-00001-tid-2318855837230609441-53de64ee-4612-4269-b608-f6b77d5772aa-958-1-c000.csv', name='part-00001-tid-2318855837230609441-53de64ee-4612-4269-b608-f6b77d5772aa-958-1-c000.csv', size=1173743, modificationTime=1750192059000),\n",
       " FileInfo(path='dbfs:/FileStore/tables/part-00002-tid-2318855837230609441-53de64ee-4612-4269-b608-f6b77d5772aa-959-1-c000.csv', name='part-00002-tid-2318855837230609441-53de64ee-4612-4269-b608-f6b77d5772aa-959-1-c000.csv', size=1911160, modificationTime=1750192059000),\n",
       " FileInfo(path='dbfs:/FileStore/tables/updated_version/', name='updated_version/', size=0, modificationTime=1750192992000)]"
      ]
     },
     "execution_count": 5,
     "metadata": {},
     "output_type": "execute_result"
    }
   ],
   "source": [
    "dbutils.fs.ls('/FileStore/tables/')"
   ]
  },
  {
   "cell_type": "code",
   "execution_count": 0,
   "metadata": {
    "application/vnd.databricks.v1+cell": {
     "cellMetadata": {
      "byteLimit": 2048000,
      "rowLimit": 10000
     },
     "inputWidgets": {},
     "nuid": "37c97aa4-4bd1-4594-8038-b517066450c9",
     "showTitle": false,
     "tableResultSettingsMap": {},
     "title": ""
    }
   },
   "outputs": [
    {
     "output_type": "stream",
     "name": "stdout",
     "output_type": "stream",
     "text": [
      "True\n"
     ]
    }
   ],
   "source": [
    "table_name = \"silver.sales_2k\"\n",
    "table_exists = spark.catalog.tableExists(table_name)\n",
    "print(table_exists)"
   ]
  },
  {
   "cell_type": "code",
   "execution_count": 0,
   "metadata": {
    "application/vnd.databricks.v1+cell": {
     "cellMetadata": {
      "byteLimit": 2048000,
      "rowLimit": 10000
     },
     "inputWidgets": {},
     "nuid": "e8833afe-0481-4f07-b52c-0169042a9673",
     "showTitle": false,
     "tableResultSettingsMap": {},
     "title": ""
    }
   },
   "outputs": [],
   "source": [
    "Sales_data=spark.table('silver.sales_2k')"
   ]
  },
  {
   "cell_type": "code",
   "execution_count": 0,
   "metadata": {
    "application/vnd.databricks.v1+cell": {
     "cellMetadata": {
      "byteLimit": 2048000,
      "rowLimit": 10000
     },
     "inputWidgets": {},
     "nuid": "aedfa14f-f94e-42a3-8763-dcd2670280fb",
     "showTitle": false,
     "tableResultSettingsMap": {},
     "title": ""
    }
   },
   "outputs": [
    {
     "output_type": "stream",
     "name": "stdout",
     "output_type": "stream",
     "text": [
      "root\n |-- OrderID: integer (nullable = true)\n |-- OrderDate: date (nullable = true)\n |-- CustomerID: string (nullable = true)\n |-- CustomerName: string (nullable = true)\n |-- ProductID: string (nullable = true)\n |-- ProductName: string (nullable = true)\n |-- Category: string (nullable = true)\n |-- SubCategory: string (nullable = true)\n |-- Quantity: integer (nullable = true)\n |-- UnitPrice: double (nullable = true)\n |-- TotalAmount: double (nullable = true)\n |-- Region: string (nullable = true)\n\n"
     ]
    }
   ],
   "source": [
    "Sales_data.printSchema()"
   ]
  },
  {
   "cell_type": "code",
   "execution_count": 0,
   "metadata": {
    "application/vnd.databricks.v1+cell": {
     "cellMetadata": {
      "byteLimit": 2048000,
      "rowLimit": 10000
     },
     "inputWidgets": {},
     "nuid": "d15efffd-7375-4eae-9879-505e49205895",
     "showTitle": false,
     "tableResultSettingsMap": {},
     "title": ""
    }
   },
   "outputs": [],
   "source": [
    "Sales_data.createOrReplaceTempView(\"sales\")"
   ]
  },
  {
   "cell_type": "markdown",
   "metadata": {
    "application/vnd.databricks.v1+cell": {
     "cellMetadata": {},
     "inputWidgets": {},
     "nuid": "4c96697d-a876-4850-9500-e272e4714763",
     "showTitle": false,
     "tableResultSettingsMap": {},
     "title": ""
    }
   },
   "source": [
    "### Starting to handle data with sql"
   ]
  },
  {
   "cell_type": "code",
   "execution_count": 0,
   "metadata": {
    "application/vnd.databricks.v1+cell": {
     "cellMetadata": {
      "byteLimit": 2048000,
      "implicitDf": true,
      "rowLimit": 10000
     },
     "inputWidgets": {},
     "nuid": "f141c551-46fd-48a1-b638-44c6f27af254",
     "showTitle": false,
     "tableResultSettingsMap": {},
     "title": ""
    }
   },
   "outputs": [
    {
     "output_type": "display_data",
     "data": {
      "text/html": [
       "<style scoped>\n",
       "  .table-result-container {\n",
       "    max-height: 300px;\n",
       "    overflow: auto;\n",
       "  }\n",
       "  table, th, td {\n",
       "    border: 1px solid black;\n",
       "    border-collapse: collapse;\n",
       "  }\n",
       "  th, td {\n",
       "    padding: 5px;\n",
       "  }\n",
       "  th {\n",
       "    text-align: left;\n",
       "  }\n",
       "</style><div class='table-result-container'><table class='table-result'><thead style='background-color: white'><tr><th>OrderID</th><th>OrderDate</th><th>CustomerID</th><th>CustomerName</th><th>ProductID</th><th>ProductName</th><th>Category</th><th>SubCategory</th><th>Quantity</th><th>UnitPrice</th><th>TotalAmount</th><th>Region</th></tr></thead><tbody><tr><td>1</td><td>2024-10-01</td><td>C2311</td><td>Amy Sheppard</td><td>P9918</td><td>Headphones</td><td>Accessories</td><td>Input Devices</td><td>3</td><td>905.22</td><td>2715.66</td><td>West</td></tr><tr><td>2</td><td>2024-11-16</td><td>C8843</td><td>Diane Gilbert</td><td>P1764</td><td>Webcam</td><td>Electronics</td><td>Peripherals</td><td>2</td><td>241.44</td><td>482.88</td><td>East</td></tr><tr><td>3</td><td>2024-12-16</td><td>C6090</td><td>Jessica Perez MD</td><td>P8004</td><td>Mouse</td><td>Accessories</td><td>Storage Devices</td><td>10</td><td>385.64</td><td>3856.4</td><td>East</td></tr><tr><td>4</td><td>2025-04-23</td><td>C3487</td><td>Caroline Martin</td><td>P5384</td><td>Desk</td><td>Furniture</td><td>Tables</td><td>6</td><td>250.78</td><td>1504.68</td><td>East</td></tr><tr><td>5</td><td>2025-01-19</td><td>C8763</td><td>Cathy Pearson</td><td>P9904</td><td>Laptop</td><td>Electronics</td><td>Peripherals</td><td>2</td><td>863.48</td><td>1726.96</td><td>North</td></tr><tr><td>6</td><td>2025-01-25</td><td>C1026</td><td>Albert Blackwell</td><td>P3545</td><td>Table Lamp</td><td>Furniture</td><td>Tables</td><td>9</td><td>134.44</td><td>1209.96</td><td>North</td></tr><tr><td>7</td><td>2025-04-13</td><td>C6194</td><td>Karen Lewis</td><td>P4360</td><td>Headphones</td><td>Accessories</td><td>Storage Devices</td><td>1</td><td>214.98</td><td>214.98</td><td>East</td></tr><tr><td>8</td><td>2024-09-02</td><td>C3914</td><td>Michael Malone</td><td>P3858</td><td>USB Drive</td><td>Accessories</td><td>Audio</td><td>8</td><td>336.36</td><td>2690.88</td><td>West</td></tr><tr><td>9</td><td>2025-04-21</td><td>C6751</td><td>Daniel Rowe</td><td>P1320</td><td>Monitor</td><td>Electronics</td><td>Computers</td><td>5</td><td>20.41</td><td>102.05</td><td>East</td></tr><tr><td>10</td><td>2024-12-04</td><td>C9247</td><td>Sandra Tate</td><td>P8950</td><td>Mouse</td><td>Accessories</td><td>Storage Devices</td><td>2</td><td>211.8</td><td>423.6</td><td>West</td></tr><tr><td>11</td><td>2025-06-06</td><td>C4615</td><td>Michael Mcdonald</td><td>P1827</td><td>Mouse</td><td>Accessories</td><td>Audio</td><td>1</td><td>225.22</td><td>225.22</td><td>West</td></tr><tr><td>12</td><td>2024-11-28</td><td>C7377</td><td>Matthew Parker</td><td>P7700</td><td>Office Chair</td><td>Furniture</td><td>Tables</td><td>8</td><td>890.58</td><td>7124.64</td><td>South</td></tr><tr><td>13</td><td>2024-06-28</td><td>C6625</td><td>Jenna Arnold</td><td>P5345</td><td>Keyboard</td><td>Accessories</td><td>Input Devices</td><td>3</td><td>253.79</td><td>761.37</td><td>North</td></tr><tr><td>14</td><td>2025-04-04</td><td>C2093</td><td>John Morris</td><td>P8431</td><td>USB Drive</td><td>Accessories</td><td>Storage Devices</td><td>4</td><td>412.57</td><td>1650.28</td><td>West</td></tr><tr><td>15</td><td>2024-10-30</td><td>C4738</td><td>David Horton</td><td>P4655</td><td>Printer</td><td>Electronics</td><td>Computers</td><td>2</td><td>755.93</td><td>1511.86</td><td>South</td></tr><tr><td>16</td><td>2025-02-19</td><td>C9889</td><td>Gloria Griffith</td><td>P4855</td><td>Smartphone</td><td>Electronics</td><td>Peripherals</td><td>7</td><td>884.83</td><td>6193.81</td><td>West</td></tr><tr><td>17</td><td>2025-05-25</td><td>C8760</td><td>Shannon Garcia</td><td>P9600</td><td>Laptop</td><td>Electronics</td><td>Peripherals</td><td>10</td><td>938.38</td><td>9383.8</td><td>North</td></tr><tr><td>18</td><td>2025-03-05</td><td>C3068</td><td>Danielle Jones</td><td>P6752</td><td>Office Chair</td><td>Furniture</td><td>Seating</td><td>9</td><td>331.11</td><td>2979.99</td><td>North</td></tr><tr><td>19</td><td>2024-11-03</td><td>C3307</td><td>Jacqueline Smith</td><td>P9750</td><td>Office Chair</td><td>Furniture</td><td>Tables</td><td>3</td><td>600.0</td><td>1800.0</td><td>North</td></tr><tr><td>20</td><td>2025-04-17</td><td>C7273</td><td>Lisa Goodman</td><td>P7777</td><td>Monitor</td><td>Electronics</td><td>Peripherals</td><td>2</td><td>317.39</td><td>634.78</td><td>South</td></tr><tr><td>21</td><td>2025-05-02</td><td>C2423</td><td>Amy Williams</td><td>P4938</td><td>Headphones</td><td>Accessories</td><td>Input Devices</td><td>6</td><td>460.62</td><td>2763.72</td><td>West</td></tr><tr><td>22</td><td>2024-10-14</td><td>C8356</td><td>Steven Mcbride</td><td>P9631</td><td>Webcam</td><td>Electronics</td><td>Computers</td><td>3</td><td>577.57</td><td>1732.71</td><td>South</td></tr><tr><td>23</td><td>2024-09-26</td><td>C7308</td><td>Marcus Davenport</td><td>P7964</td><td>Smartphone</td><td>Electronics</td><td>Mobile Devices</td><td>1</td><td>970.3</td><td>970.3</td><td>West</td></tr><tr><td>24</td><td>2024-06-19</td><td>C3163</td><td>Tyler Johnson</td><td>P4383</td><td>USB Drive</td><td>Accessories</td><td>Audio</td><td>4</td><td>796.6</td><td>3186.4</td><td>North</td></tr><tr><td>25</td><td>2024-08-30</td><td>C7729</td><td>Rachel Davis</td><td>P2522</td><td>USB Drive</td><td>Accessories</td><td>Audio</td><td>4</td><td>663.31</td><td>2653.24</td><td>East</td></tr><tr><td>26</td><td>2024-08-02</td><td>C1654</td><td>Gregory Baker</td><td>P6370</td><td>Desk</td><td>Furniture</td><td>Tables</td><td>1</td><td>60.37</td><td>60.37</td><td>West</td></tr><tr><td>27</td><td>2025-02-09</td><td>C9664</td><td>Kevin Daugherty</td><td>P4686</td><td>Headphones</td><td>Accessories</td><td>Audio</td><td>8</td><td>594.79</td><td>4758.32</td><td>South</td></tr><tr><td>28</td><td>2024-11-02</td><td>C5097</td><td>Leslie Johnston</td><td>P6673</td><td>Keyboard</td><td>Accessories</td><td>Input Devices</td><td>8</td><td>108.44</td><td>867.52</td><td>South</td></tr><tr><td>29</td><td>2025-01-27</td><td>C7678</td><td>Elizabeth Cox</td><td>P3559</td><td>Desk</td><td>Furniture</td><td>Storage</td><td>2</td><td>984.22</td><td>1968.44</td><td>East</td></tr><tr><td>30</td><td>2025-01-25</td><td>C7285</td><td>Laura Crawford</td><td>P5083</td><td>Smartphone</td><td>Electronics</td><td>Mobile Devices</td><td>5</td><td>518.31</td><td>2591.55</td><td>North</td></tr><tr><td>31</td><td>2024-07-25</td><td>C5033</td><td>Sean Mcpherson</td><td>P3636</td><td>Printer</td><td>Electronics</td><td>Peripherals</td><td>9</td><td>682.17</td><td>6139.53</td><td>North</td></tr><tr><td>32</td><td>2024-09-05</td><td>C3072</td><td>Matthew Hernandez</td><td>P5322</td><td>Monitor</td><td>Electronics</td><td>Peripherals</td><td>1</td><td>299.48</td><td>299.48</td><td>West</td></tr><tr><td>33</td><td>2025-01-28</td><td>C9212</td><td>Tammy Olsen</td><td>P3399</td><td>Mouse</td><td>Accessories</td><td>Audio</td><td>2</td><td>252.68</td><td>505.36</td><td>East</td></tr><tr><td>34</td><td>2024-08-23</td><td>C2871</td><td>Omar Rogers</td><td>P4044</td><td>Monitor</td><td>Electronics</td><td>Peripherals</td><td>4</td><td>481.49</td><td>1925.96</td><td>South</td></tr><tr><td>35</td><td>2024-10-18</td><td>C1532</td><td>Gwendolyn Roth</td><td>P8143</td><td>Headphones</td><td>Accessories</td><td>Storage Devices</td><td>10</td><td>467.6</td><td>4676.0</td><td>North</td></tr><tr><td>36</td><td>2024-07-17</td><td>C4164</td><td>Jennifer Carlson</td><td>P8330</td><td>Headphones</td><td>Accessories</td><td>Storage Devices</td><td>3</td><td>933.95</td><td>2801.85</td><td>North</td></tr><tr><td>37</td><td>2024-12-15</td><td>C6988</td><td>Miss Sonya Brown DDS</td><td>P5301</td><td>Mouse</td><td>Accessories</td><td>Audio</td><td>9</td><td>378.77</td><td>3408.93</td><td>South</td></tr><tr><td>38</td><td>2024-10-16</td><td>C3965</td><td>Bailey Wilcox</td><td>P8892</td><td>Headphones</td><td>Accessories</td><td>Input Devices</td><td>4</td><td>226.95</td><td>907.8</td><td>East</td></tr><tr><td>39</td><td>2024-10-28</td><td>C8193</td><td>Michael Baldwin</td><td>P1218</td><td>Monitor</td><td>Electronics</td><td>Peripherals</td><td>10</td><td>162.06</td><td>1620.6</td><td>West</td></tr><tr><td>40</td><td>2024-12-02</td><td>C2135</td><td>Derrick Weiss</td><td>P1763</td><td>USB Drive</td><td>Accessories</td><td>Storage Devices</td><td>6</td><td>178.52</td><td>1071.12</td><td>South</td></tr><tr><td>41</td><td>2025-03-10</td><td>C8259</td><td>Michael Glass</td><td>P6616</td><td>Desk</td><td>Furniture</td><td>Seating</td><td>6</td><td>692.07</td><td>4152.42</td><td>West</td></tr><tr><td>42</td><td>2025-05-12</td><td>C6794</td><td>Sarah Robinson</td><td>P2980</td><td>Office Chair</td><td>Furniture</td><td>Tables</td><td>9</td><td>375.9</td><td>3383.1</td><td>North</td></tr><tr><td>43</td><td>2024-11-15</td><td>C7216</td><td>Kelly Santiago</td><td>P8141</td><td>Bookshelf</td><td>Furniture</td><td>Tables</td><td>1</td><td>436.53</td><td>436.53</td><td>South</td></tr><tr><td>44</td><td>2024-11-23</td><td>C6764</td><td>Stephanie Wyatt</td><td>P9771</td><td>Headphones</td><td>Accessories</td><td>Input Devices</td><td>3</td><td>805.93</td><td>2417.79</td><td>East</td></tr><tr><td>45</td><td>2025-04-25</td><td>C6270</td><td>Robert Watkins</td><td>P6962</td><td>Bookshelf</td><td>Furniture</td><td>Storage</td><td>3</td><td>778.77</td><td>2336.31</td><td>South</td></tr><tr><td>46</td><td>2024-08-18</td><td>C4382</td><td>James Conley</td><td>P9913</td><td>Table Lamp</td><td>Furniture</td><td>Tables</td><td>3</td><td>983.26</td><td>2949.78</td><td>South</td></tr><tr><td>47</td><td>2024-09-22</td><td>C1604</td><td>Dr. Austin Myers</td><td>P9617</td><td>USB Drive</td><td>Accessories</td><td>Storage Devices</td><td>9</td><td>761.69</td><td>6855.21</td><td>East</td></tr><tr><td>48</td><td>2025-03-01</td><td>C6710</td><td>Mike Bonilla</td><td>P1073</td><td>Desk</td><td>Furniture</td><td>Storage</td><td>1</td><td>60.59</td><td>60.59</td><td>West</td></tr><tr><td>49</td><td>2024-10-01</td><td>C6135</td><td>Leslie Carter</td><td>P7421</td><td>Webcam</td><td>Electronics</td><td>Mobile Devices</td><td>10</td><td>685.37</td><td>6853.7</td><td>South</td></tr><tr><td>50</td><td>2024-06-19</td><td>C9962</td><td>Samantha Hughes</td><td>P6120</td><td>Laptop</td><td>Electronics</td><td>Computers</td><td>3</td><td>557.9</td><td>1673.7</td><td>East</td></tr><tr><td>51</td><td>2024-10-14</td><td>C3598</td><td>Robert Rodriguez</td><td>P5980</td><td>Monitor</td><td>Electronics</td><td>Computers</td><td>7</td><td>348.93</td><td>2442.51</td><td>South</td></tr><tr><td>52</td><td>2024-10-15</td><td>C3036</td><td>William Rivera</td><td>P4187</td><td>Desk</td><td>Furniture</td><td>Seating</td><td>8</td><td>144.85</td><td>1158.8</td><td>West</td></tr><tr><td>53</td><td>2024-08-02</td><td>C2620</td><td>Gail Lewis</td><td>P1400</td><td>Office Chair</td><td>Furniture</td><td>Storage</td><td>1</td><td>561.67</td><td>561.67</td><td>North</td></tr><tr><td>54</td><td>2025-04-21</td><td>C5970</td><td>Jacqueline Hubbard</td><td>P5489</td><td>Webcam</td><td>Electronics</td><td>Peripherals</td><td>4</td><td>927.46</td><td>3709.84</td><td>North</td></tr><tr><td>55</td><td>2024-12-20</td><td>C2143</td><td>Christopher Willis</td><td>P5986</td><td>USB Drive</td><td>Accessories</td><td>Input Devices</td><td>7</td><td>80.66</td><td>564.62</td><td>East</td></tr><tr><td>56</td><td>2024-11-13</td><td>C3742</td><td>Debra Nguyen</td><td>P2507</td><td>Headphones</td><td>Accessories</td><td>Storage Devices</td><td>4</td><td>978.77</td><td>3915.08</td><td>South</td></tr><tr><td>57</td><td>2024-08-09</td><td>C2624</td><td>Marissa Hayden</td><td>P1336</td><td>Bookshelf</td><td>Furniture</td><td>Seating</td><td>5</td><td>397.22</td><td>1986.1</td><td>West</td></tr><tr><td>58</td><td>2025-05-19</td><td>C6461</td><td>Michael Acosta</td><td>P1701</td><td>Bookshelf</td><td>Furniture</td><td>Storage</td><td>3</td><td>876.83</td><td>2630.49</td><td>North</td></tr><tr><td>59</td><td>2024-08-13</td><td>C6190</td><td>Francisco Burton</td><td>P8884</td><td>Office Chair</td><td>Furniture</td><td>Storage</td><td>8</td><td>860.74</td><td>6885.92</td><td>North</td></tr><tr><td>60</td><td>2025-05-03</td><td>C9560</td><td>Shane Green</td><td>P6416</td><td>Desk</td><td>Furniture</td><td>Storage</td><td>8</td><td>188.75</td><td>1510.0</td><td>East</td></tr><tr><td>61</td><td>2024-07-06</td><td>C7014</td><td>Joanne Mcclain</td><td>P5772</td><td>Headphones</td><td>Accessories</td><td>Storage Devices</td><td>9</td><td>58.6</td><td>527.4</td><td>South</td></tr><tr><td>62</td><td>2025-03-03</td><td>C4082</td><td>David Levine</td><td>P5836</td><td>Office Chair</td><td>Furniture</td><td>Storage</td><td>5</td><td>409.61</td><td>2048.05</td><td>East</td></tr><tr><td>63</td><td>2024-09-27</td><td>C5689</td><td>Mary Sanchez</td><td>P1106</td><td>Bookshelf</td><td>Furniture</td><td>Storage</td><td>2</td><td>241.4</td><td>482.8</td><td>North</td></tr><tr><td>64</td><td>2025-02-27</td><td>C9712</td><td>Ashley Fuentes</td><td>P9136</td><td>Table Lamp</td><td>Furniture</td><td>Seating</td><td>4</td><td>77.29</td><td>309.16</td><td>West</td></tr><tr><td>65</td><td>2024-12-08</td><td>C1500</td><td>Mary Maynard</td><td>P9705</td><td>Bookshelf</td><td>Furniture</td><td>Seating</td><td>10</td><td>934.41</td><td>9344.1</td><td>West</td></tr><tr><td>66</td><td>2025-02-09</td><td>C6658</td><td>Matthew Bender</td><td>P1187</td><td>Desk</td><td>Furniture</td><td>Tables</td><td>5</td><td>180.5</td><td>902.5</td><td>West</td></tr><tr><td>67</td><td>2024-12-06</td><td>C8195</td><td>Julie Velasquez</td><td>P5474</td><td>Smartphone</td><td>Electronics</td><td>Mobile Devices</td><td>2</td><td>929.44</td><td>1858.88</td><td>North</td></tr><tr><td>68</td><td>2024-10-01</td><td>C8138</td><td>Gabrielle Krause</td><td>P2133</td><td>Laptop</td><td>Electronics</td><td>Peripherals</td><td>8</td><td>731.48</td><td>5851.84</td><td>South</td></tr><tr><td>69</td><td>2025-01-31</td><td>C9775</td><td>Grace Hopkins</td><td>P7202</td><td>Smartphone</td><td>Electronics</td><td>Unknown</td><td>10</td><td>777.11</td><td>7771.1</td><td>North</td></tr><tr><td>70</td><td>2024-12-26</td><td>C6273</td><td>Christopher Jimenez</td><td>P3200</td><td>Unknown</td><td>Accessories</td><td>Storage Devices</td><td>7</td><td>751.52</td><td>5260.64</td><td>South</td></tr><tr><td>71</td><td>2024-10-07</td><td>C9533</td><td>Susan Johnson</td><td>P8925</td><td>Mouse</td><td>Accessories</td><td>Storage Devices</td><td>8</td><td>358.78</td><td>2870.24</td><td>South</td></tr><tr><td>72</td><td>2025-06-08</td><td>C8468</td><td>David Perry</td><td>P9069</td><td>Monitor</td><td>Electronics</td><td>Peripherals</td><td>8</td><td>84.79</td><td>678.32</td><td>East</td></tr><tr><td>73</td><td>2025-06-06</td><td>C8829</td><td>Melanie Jones</td><td>P2315</td><td>Printer</td><td>Electronics</td><td>Computers</td><td>9</td><td>102.72</td><td>924.48</td><td>East</td></tr><tr><td>74</td><td>2024-11-11</td><td>C3872</td><td>Ethan Hall</td><td>P1120</td><td>Bookshelf</td><td>Furniture</td><td>Storage</td><td>5</td><td>980.68</td><td>4903.4</td><td>West</td></tr><tr><td>75</td><td>2025-01-23</td><td>C3495</td><td>Crystal Miller</td><td>P5576</td><td>Monitor</td><td>Electronics</td><td>Mobile Devices</td><td>3</td><td>552.87</td><td>1658.61</td><td>North</td></tr><tr><td>76</td><td>2024-11-20</td><td>C1280</td><td>Erin Graves</td><td>P1831</td><td>Desk</td><td>Furniture</td><td>Tables</td><td>5</td><td>744.9</td><td>3724.5</td><td>South</td></tr><tr><td>77</td><td>2025-04-24</td><td>C3462</td><td>Vickie Donovan</td><td>P3326</td><td>Headphones</td><td>Accessories</td><td>Audio</td><td>8</td><td>633.57</td><td>5068.56</td><td>South</td></tr><tr><td>78</td><td>2024-07-07</td><td>C6406</td><td>Michael Lawson</td><td>P5594</td><td>USB Drive</td><td>Accessories</td><td>Storage Devices</td><td>1</td><td>709.61</td><td>709.61</td><td>West</td></tr><tr><td>79</td><td>2024-07-29</td><td>C2711</td><td>Brenda Bowman</td><td>P7866</td><td>Webcam</td><td>Electronics</td><td>Peripherals</td><td>6</td><td>497.35</td><td>2984.1</td><td>West</td></tr><tr><td>80</td><td>2025-03-29</td><td>C9320</td><td>Mary Reyes</td><td>P6666</td><td>Table Lamp</td><td>Furniture</td><td>Tables</td><td>3</td><td>328.68</td><td>986.04</td><td>West</td></tr><tr><td>81</td><td>2025-05-03</td><td>C6723</td><td>Warren Craig</td><td>P2777</td><td>Laptop</td><td>Electronics</td><td>Mobile Devices</td><td>5</td><td>863.22</td><td>4316.1</td><td>East</td></tr><tr><td>82</td><td>2025-05-19</td><td>C2563</td><td>Diana Ingram</td><td>P8870</td><td>Bookshelf</td><td>Furniture</td><td>Tables</td><td>4</td><td>333.76</td><td>1335.04</td><td>West</td></tr><tr><td>83</td><td>2025-03-01</td><td>C8861</td><td>Raymond Simmons</td><td>P1104</td><td>Keyboard</td><td>Accessories</td><td>Storage Devices</td><td>8</td><td>659.58</td><td>5276.64</td><td>West</td></tr><tr><td>84</td><td>2025-02-16</td><td>C6552</td><td>Ashley Dalton</td><td>P7106</td><td>Table Lamp</td><td>Furniture</td><td>Seating</td><td>7</td><td>255.28</td><td>1786.96</td><td>West</td></tr><tr><td>85</td><td>2025-01-08</td><td>C1257</td><td>Brian Lee</td><td>P4672</td><td>Monitor</td><td>Electronics</td><td>Peripherals</td><td>2</td><td>377.4</td><td>754.8</td><td>West</td></tr><tr><td>86</td><td>2025-01-27</td><td>C8348</td><td>Bruce Reed</td><td>P4956</td><td>Bookshelf</td><td>Furniture</td><td>Tables</td><td>5</td><td>539.36</td><td>2696.8</td><td>West</td></tr><tr><td>87</td><td>2024-12-08</td><td>C8732</td><td>Jennifer Gonzalez</td><td>P6820</td><td>Smartphone</td><td>Electronics</td><td>Computers</td><td>2</td><td>216.21</td><td>432.42</td><td>West</td></tr><tr><td>88</td><td>2025-05-18</td><td>C8791</td><td>Maria Hart</td><td>P3363</td><td>Table Lamp</td><td>Furniture</td><td>Storage</td><td>2</td><td>496.8</td><td>993.6</td><td>South</td></tr><tr><td>89</td><td>2024-10-02</td><td>C6101</td><td>Luis Robinson</td><td>P4921</td><td>Office Chair</td><td>Furniture</td><td>Storage</td><td>4</td><td>532.08</td><td>2128.32</td><td>East</td></tr><tr><td>90</td><td>2024-11-01</td><td>C2329</td><td>Todd Jones</td><td>P8918</td><td>Webcam</td><td>Electronics</td><td>Computers</td><td>1</td><td>935.83</td><td>935.83</td><td>East</td></tr><tr><td>91</td><td>2024-12-04</td><td>C7187</td><td>Catherine Escobar</td><td>P1298</td><td>Desk</td><td>Furniture</td><td>Tables</td><td>5</td><td>78.04</td><td>390.2</td><td>West</td></tr><tr><td>92</td><td>2024-08-27</td><td>C9576</td><td>Lisa Stevens</td><td>P9814</td><td>Bookshelf</td><td>Furniture</td><td>Tables</td><td>3</td><td>250.67</td><td>752.01</td><td>North</td></tr><tr><td>93</td><td>2024-10-04</td><td>C5138</td><td>Joseph Huang</td><td>P8855</td><td>Headphones</td><td>Accessories</td><td>Input Devices</td><td>8</td><td>262.07</td><td>2096.56</td><td>East</td></tr><tr><td>94</td><td>2025-05-29</td><td>C5991</td><td>Nicole Cameron</td><td>P5855</td><td>Mouse</td><td>Accessories</td><td>Storage Devices</td><td>2</td><td>838.35</td><td>1676.7</td><td>East</td></tr><tr><td>95</td><td>2025-01-24</td><td>C5017</td><td>Albert White</td><td>P2074</td><td>Headphones</td><td>Accessories</td><td>Audio</td><td>8</td><td>528.36</td><td>4226.88</td><td>North</td></tr><tr><td>96</td><td>2024-06-17</td><td>C1879</td><td>Katie Wilson</td><td>P3121</td><td>Smartphone</td><td>Electronics</td><td>Computers</td><td>10</td><td>99.59</td><td>995.9</td><td>North</td></tr><tr><td>97</td><td>2024-12-30</td><td>C6100</td><td>Sara Williams</td><td>P4187</td><td>Headphones</td><td>Accessories</td><td>Storage Devices</td><td>10</td><td>70.87</td><td>708.7</td><td>West</td></tr><tr><td>98</td><td>2025-01-24</td><td>C4071</td><td>Monica Holmes</td><td>P3276</td><td>Bookshelf</td><td>Furniture</td><td>Tables</td><td>8</td><td>359.27</td><td>2874.16</td><td>East</td></tr><tr><td>99</td><td>2025-02-22</td><td>C6654</td><td>Justin Gray</td><td>P2188</td><td>Laptop</td><td>Electronics</td><td>Computers</td><td>4</td><td>107.59</td><td>430.36</td><td>North</td></tr><tr><td>100</td><td>2025-03-30</td><td>C7746</td><td>Frank Martinez</td><td>P8448</td><td>Mouse</td><td>Accessories</td><td>Storage Devices</td><td>3</td><td>313.74</td><td>941.22</td><td>West</td></tr><tr><td>101</td><td>2024-08-27</td><td>C9773</td><td>Heather Reeves</td><td>P7586</td><td>Office Chair</td><td>Furniture</td><td>Seating</td><td>4</td><td>961.16</td><td>3844.64</td><td>East</td></tr><tr><td>102</td><td>2024-11-16</td><td>C5957</td><td>Larry Garcia</td><td>P6022</td><td>Mouse</td><td>Accessories</td><td>Input Devices</td><td>6</td><td>633.12</td><td>3798.72</td><td>North</td></tr></tbody></table></div>"
      ]
     },
     "metadata": {
      "application/vnd.databricks.v1+output": {
       "addedWidgets": {},
       "aggData": [],
       "aggError": "",
       "aggOverflow": false,
       "aggSchema": [],
       "aggSeriesLimitReached": false,
       "aggType": "",
       "arguments": {},
       "columnCustomDisplayInfos": {},
       "data": [
        [
         1,
         "2024-10-01",
         "C2311",
         "Amy Sheppard",
         "P9918",
         "Headphones",
         "Accessories",
         "Input Devices",
         3,
         905.22,
         2715.66,
         "West"
        ],
        [
         2,
         "2024-11-16",
         "C8843",
         "Diane Gilbert",
         "P1764",
         "Webcam",
         "Electronics",
         "Peripherals",
         2,
         241.44,
         482.88,
         "East"
        ],
        [
         3,
         "2024-12-16",
         "C6090",
         "Jessica Perez MD",
         "P8004",
         "Mouse",
         "Accessories",
         "Storage Devices",
         10,
         385.64,
         3856.4,
         "East"
        ],
        [
         4,
         "2025-04-23",
         "C3487",
         "Caroline Martin",
         "P5384",
         "Desk",
         "Furniture",
         "Tables",
         6,
         250.78,
         1504.68,
         "East"
        ],
        [
         5,
         "2025-01-19",
         "C8763",
         "Cathy Pearson",
         "P9904",
         "Laptop",
         "Electronics",
         "Peripherals",
         2,
         863.48,
         1726.96,
         "North"
        ],
        [
         6,
         "2025-01-25",
         "C1026",
         "Albert Blackwell",
         "P3545",
         "Table Lamp",
         "Furniture",
         "Tables",
         9,
         134.44,
         1209.96,
         "North"
        ],
        [
         7,
         "2025-04-13",
         "C6194",
         "Karen Lewis",
         "P4360",
         "Headphones",
         "Accessories",
         "Storage Devices",
         1,
         214.98,
         214.98,
         "East"
        ],
        [
         8,
         "2024-09-02",
         "C3914",
         "Michael Malone",
         "P3858",
         "USB Drive",
         "Accessories",
         "Audio",
         8,
         336.36,
         2690.88,
         "West"
        ],
        [
         9,
         "2025-04-21",
         "C6751",
         "Daniel Rowe",
         "P1320",
         "Monitor",
         "Electronics",
         "Computers",
         5,
         20.41,
         102.05,
         "East"
        ],
        [
         10,
         "2024-12-04",
         "C9247",
         "Sandra Tate",
         "P8950",
         "Mouse",
         "Accessories",
         "Storage Devices",
         2,
         211.8,
         423.6,
         "West"
        ],
        [
         11,
         "2025-06-06",
         "C4615",
         "Michael Mcdonald",
         "P1827",
         "Mouse",
         "Accessories",
         "Audio",
         1,
         225.22,
         225.22,
         "West"
        ],
        [
         12,
         "2024-11-28",
         "C7377",
         "Matthew Parker",
         "P7700",
         "Office Chair",
         "Furniture",
         "Tables",
         8,
         890.58,
         7124.64,
         "South"
        ],
        [
         13,
         "2024-06-28",
         "C6625",
         "Jenna Arnold",
         "P5345",
         "Keyboard",
         "Accessories",
         "Input Devices",
         3,
         253.79,
         761.37,
         "North"
        ],
        [
         14,
         "2025-04-04",
         "C2093",
         "John Morris",
         "P8431",
         "USB Drive",
         "Accessories",
         "Storage Devices",
         4,
         412.57,
         1650.28,
         "West"
        ],
        [
         15,
         "2024-10-30",
         "C4738",
         "David Horton",
         "P4655",
         "Printer",
         "Electronics",
         "Computers",
         2,
         755.93,
         1511.86,
         "South"
        ],
        [
         16,
         "2025-02-19",
         "C9889",
         "Gloria Griffith",
         "P4855",
         "Smartphone",
         "Electronics",
         "Peripherals",
         7,
         884.83,
         6193.81,
         "West"
        ],
        [
         17,
         "2025-05-25",
         "C8760",
         "Shannon Garcia",
         "P9600",
         "Laptop",
         "Electronics",
         "Peripherals",
         10,
         938.38,
         9383.8,
         "North"
        ],
        [
         18,
         "2025-03-05",
         "C3068",
         "Danielle Jones",
         "P6752",
         "Office Chair",
         "Furniture",
         "Seating",
         9,
         331.11,
         2979.99,
         "North"
        ],
        [
         19,
         "2024-11-03",
         "C3307",
         "Jacqueline Smith",
         "P9750",
         "Office Chair",
         "Furniture",
         "Tables",
         3,
         600.0,
         1800.0,
         "North"
        ],
        [
         20,
         "2025-04-17",
         "C7273",
         "Lisa Goodman",
         "P7777",
         "Monitor",
         "Electronics",
         "Peripherals",
         2,
         317.39,
         634.78,
         "South"
        ],
        [
         21,
         "2025-05-02",
         "C2423",
         "Amy Williams",
         "P4938",
         "Headphones",
         "Accessories",
         "Input Devices",
         6,
         460.62,
         2763.72,
         "West"
        ],
        [
         22,
         "2024-10-14",
         "C8356",
         "Steven Mcbride",
         "P9631",
         "Webcam",
         "Electronics",
         "Computers",
         3,
         577.57,
         1732.71,
         "South"
        ],
        [
         23,
         "2024-09-26",
         "C7308",
         "Marcus Davenport",
         "P7964",
         "Smartphone",
         "Electronics",
         "Mobile Devices",
         1,
         970.3,
         970.3,
         "West"
        ],
        [
         24,
         "2024-06-19",
         "C3163",
         "Tyler Johnson",
         "P4383",
         "USB Drive",
         "Accessories",
         "Audio",
         4,
         796.6,
         3186.4,
         "North"
        ],
        [
         25,
         "2024-08-30",
         "C7729",
         "Rachel Davis",
         "P2522",
         "USB Drive",
         "Accessories",
         "Audio",
         4,
         663.31,
         2653.24,
         "East"
        ],
        [
         26,
         "2024-08-02",
         "C1654",
         "Gregory Baker",
         "P6370",
         "Desk",
         "Furniture",
         "Tables",
         1,
         60.37,
         60.37,
         "West"
        ],
        [
         27,
         "2025-02-09",
         "C9664",
         "Kevin Daugherty",
         "P4686",
         "Headphones",
         "Accessories",
         "Audio",
         8,
         594.79,
         4758.32,
         "South"
        ],
        [
         28,
         "2024-11-02",
         "C5097",
         "Leslie Johnston",
         "P6673",
         "Keyboard",
         "Accessories",
         "Input Devices",
         8,
         108.44,
         867.52,
         "South"
        ],
        [
         29,
         "2025-01-27",
         "C7678",
         "Elizabeth Cox",
         "P3559",
         "Desk",
         "Furniture",
         "Storage",
         2,
         984.22,
         1968.44,
         "East"
        ],
        [
         30,
         "2025-01-25",
         "C7285",
         "Laura Crawford",
         "P5083",
         "Smartphone",
         "Electronics",
         "Mobile Devices",
         5,
         518.31,
         2591.55,
         "North"
        ],
        [
         31,
         "2024-07-25",
         "C5033",
         "Sean Mcpherson",
         "P3636",
         "Printer",
         "Electronics",
         "Peripherals",
         9,
         682.17,
         6139.53,
         "North"
        ],
        [
         32,
         "2024-09-05",
         "C3072",
         "Matthew Hernandez",
         "P5322",
         "Monitor",
         "Electronics",
         "Peripherals",
         1,
         299.48,
         299.48,
         "West"
        ],
        [
         33,
         "2025-01-28",
         "C9212",
         "Tammy Olsen",
         "P3399",
         "Mouse",
         "Accessories",
         "Audio",
         2,
         252.68,
         505.36,
         "East"
        ],
        [
         34,
         "2024-08-23",
         "C2871",
         "Omar Rogers",
         "P4044",
         "Monitor",
         "Electronics",
         "Peripherals",
         4,
         481.49,
         1925.96,
         "South"
        ],
        [
         35,
         "2024-10-18",
         "C1532",
         "Gwendolyn Roth",
         "P8143",
         "Headphones",
         "Accessories",
         "Storage Devices",
         10,
         467.6,
         4676.0,
         "North"
        ],
        [
         36,
         "2024-07-17",
         "C4164",
         "Jennifer Carlson",
         "P8330",
         "Headphones",
         "Accessories",
         "Storage Devices",
         3,
         933.95,
         2801.85,
         "North"
        ],
        [
         37,
         "2024-12-15",
         "C6988",
         "Miss Sonya Brown DDS",
         "P5301",
         "Mouse",
         "Accessories",
         "Audio",
         9,
         378.77,
         3408.93,
         "South"
        ],
        [
         38,
         "2024-10-16",
         "C3965",
         "Bailey Wilcox",
         "P8892",
         "Headphones",
         "Accessories",
         "Input Devices",
         4,
         226.95,
         907.8,
         "East"
        ],
        [
         39,
         "2024-10-28",
         "C8193",
         "Michael Baldwin",
         "P1218",
         "Monitor",
         "Electronics",
         "Peripherals",
         10,
         162.06,
         1620.6,
         "West"
        ],
        [
         40,
         "2024-12-02",
         "C2135",
         "Derrick Weiss",
         "P1763",
         "USB Drive",
         "Accessories",
         "Storage Devices",
         6,
         178.52,
         1071.12,
         "South"
        ],
        [
         41,
         "2025-03-10",
         "C8259",
         "Michael Glass",
         "P6616",
         "Desk",
         "Furniture",
         "Seating",
         6,
         692.07,
         4152.42,
         "West"
        ],
        [
         42,
         "2025-05-12",
         "C6794",
         "Sarah Robinson",
         "P2980",
         "Office Chair",
         "Furniture",
         "Tables",
         9,
         375.9,
         3383.1,
         "North"
        ],
        [
         43,
         "2024-11-15",
         "C7216",
         "Kelly Santiago",
         "P8141",
         "Bookshelf",
         "Furniture",
         "Tables",
         1,
         436.53,
         436.53,
         "South"
        ],
        [
         44,
         "2024-11-23",
         "C6764",
         "Stephanie Wyatt",
         "P9771",
         "Headphones",
         "Accessories",
         "Input Devices",
         3,
         805.93,
         2417.79,
         "East"
        ],
        [
         45,
         "2025-04-25",
         "C6270",
         "Robert Watkins",
         "P6962",
         "Bookshelf",
         "Furniture",
         "Storage",
         3,
         778.77,
         2336.31,
         "South"
        ],
        [
         46,
         "2024-08-18",
         "C4382",
         "James Conley",
         "P9913",
         "Table Lamp",
         "Furniture",
         "Tables",
         3,
         983.26,
         2949.78,
         "South"
        ],
        [
         47,
         "2024-09-22",
         "C1604",
         "Dr. Austin Myers",
         "P9617",
         "USB Drive",
         "Accessories",
         "Storage Devices",
         9,
         761.69,
         6855.21,
         "East"
        ],
        [
         48,
         "2025-03-01",
         "C6710",
         "Mike Bonilla",
         "P1073",
         "Desk",
         "Furniture",
         "Storage",
         1,
         60.59,
         60.59,
         "West"
        ],
        [
         49,
         "2024-10-01",
         "C6135",
         "Leslie Carter",
         "P7421",
         "Webcam",
         "Electronics",
         "Mobile Devices",
         10,
         685.37,
         6853.7,
         "South"
        ],
        [
         50,
         "2024-06-19",
         "C9962",
         "Samantha Hughes",
         "P6120",
         "Laptop",
         "Electronics",
         "Computers",
         3,
         557.9,
         1673.7,
         "East"
        ],
        [
         51,
         "2024-10-14",
         "C3598",
         "Robert Rodriguez",
         "P5980",
         "Monitor",
         "Electronics",
         "Computers",
         7,
         348.93,
         2442.51,
         "South"
        ],
        [
         52,
         "2024-10-15",
         "C3036",
         "William Rivera",
         "P4187",
         "Desk",
         "Furniture",
         "Seating",
         8,
         144.85,
         1158.8,
         "West"
        ],
        [
         53,
         "2024-08-02",
         "C2620",
         "Gail Lewis",
         "P1400",
         "Office Chair",
         "Furniture",
         "Storage",
         1,
         561.67,
         561.67,
         "North"
        ],
        [
         54,
         "2025-04-21",
         "C5970",
         "Jacqueline Hubbard",
         "P5489",
         "Webcam",
         "Electronics",
         "Peripherals",
         4,
         927.46,
         3709.84,
         "North"
        ],
        [
         55,
         "2024-12-20",
         "C2143",
         "Christopher Willis",
         "P5986",
         "USB Drive",
         "Accessories",
         "Input Devices",
         7,
         80.66,
         564.62,
         "East"
        ],
        [
         56,
         "2024-11-13",
         "C3742",
         "Debra Nguyen",
         "P2507",
         "Headphones",
         "Accessories",
         "Storage Devices",
         4,
         978.77,
         3915.08,
         "South"
        ],
        [
         57,
         "2024-08-09",
         "C2624",
         "Marissa Hayden",
         "P1336",
         "Bookshelf",
         "Furniture",
         "Seating",
         5,
         397.22,
         1986.1,
         "West"
        ],
        [
         58,
         "2025-05-19",
         "C6461",
         "Michael Acosta",
         "P1701",
         "Bookshelf",
         "Furniture",
         "Storage",
         3,
         876.83,
         2630.49,
         "North"
        ],
        [
         59,
         "2024-08-13",
         "C6190",
         "Francisco Burton",
         "P8884",
         "Office Chair",
         "Furniture",
         "Storage",
         8,
         860.74,
         6885.92,
         "North"
        ],
        [
         60,
         "2025-05-03",
         "C9560",
         "Shane Green",
         "P6416",
         "Desk",
         "Furniture",
         "Storage",
         8,
         188.75,
         1510.0,
         "East"
        ],
        [
         61,
         "2024-07-06",
         "C7014",
         "Joanne Mcclain",
         "P5772",
         "Headphones",
         "Accessories",
         "Storage Devices",
         9,
         58.6,
         527.4,
         "South"
        ],
        [
         62,
         "2025-03-03",
         "C4082",
         "David Levine",
         "P5836",
         "Office Chair",
         "Furniture",
         "Storage",
         5,
         409.61,
         2048.05,
         "East"
        ],
        [
         63,
         "2024-09-27",
         "C5689",
         "Mary Sanchez",
         "P1106",
         "Bookshelf",
         "Furniture",
         "Storage",
         2,
         241.4,
         482.8,
         "North"
        ],
        [
         64,
         "2025-02-27",
         "C9712",
         "Ashley Fuentes",
         "P9136",
         "Table Lamp",
         "Furniture",
         "Seating",
         4,
         77.29,
         309.16,
         "West"
        ],
        [
         65,
         "2024-12-08",
         "C1500",
         "Mary Maynard",
         "P9705",
         "Bookshelf",
         "Furniture",
         "Seating",
         10,
         934.41,
         9344.1,
         "West"
        ],
        [
         66,
         "2025-02-09",
         "C6658",
         "Matthew Bender",
         "P1187",
         "Desk",
         "Furniture",
         "Tables",
         5,
         180.5,
         902.5,
         "West"
        ],
        [
         67,
         "2024-12-06",
         "C8195",
         "Julie Velasquez",
         "P5474",
         "Smartphone",
         "Electronics",
         "Mobile Devices",
         2,
         929.44,
         1858.88,
         "North"
        ],
        [
         68,
         "2024-10-01",
         "C8138",
         "Gabrielle Krause",
         "P2133",
         "Laptop",
         "Electronics",
         "Peripherals",
         8,
         731.48,
         5851.84,
         "South"
        ],
        [
         69,
         "2025-01-31",
         "C9775",
         "Grace Hopkins",
         "P7202",
         "Smartphone",
         "Electronics",
         "Unknown",
         10,
         777.11,
         7771.1,
         "North"
        ],
        [
         70,
         "2024-12-26",
         "C6273",
         "Christopher Jimenez",
         "P3200",
         "Unknown",
         "Accessories",
         "Storage Devices",
         7,
         751.52,
         5260.64,
         "South"
        ],
        [
         71,
         "2024-10-07",
         "C9533",
         "Susan Johnson",
         "P8925",
         "Mouse",
         "Accessories",
         "Storage Devices",
         8,
         358.78,
         2870.24,
         "South"
        ],
        [
         72,
         "2025-06-08",
         "C8468",
         "David Perry",
         "P9069",
         "Monitor",
         "Electronics",
         "Peripherals",
         8,
         84.79,
         678.32,
         "East"
        ],
        [
         73,
         "2025-06-06",
         "C8829",
         "Melanie Jones",
         "P2315",
         "Printer",
         "Electronics",
         "Computers",
         9,
         102.72,
         924.48,
         "East"
        ],
        [
         74,
         "2024-11-11",
         "C3872",
         "Ethan Hall",
         "P1120",
         "Bookshelf",
         "Furniture",
         "Storage",
         5,
         980.68,
         4903.4,
         "West"
        ],
        [
         75,
         "2025-01-23",
         "C3495",
         "Crystal Miller",
         "P5576",
         "Monitor",
         "Electronics",
         "Mobile Devices",
         3,
         552.87,
         1658.61,
         "North"
        ],
        [
         76,
         "2024-11-20",
         "C1280",
         "Erin Graves",
         "P1831",
         "Desk",
         "Furniture",
         "Tables",
         5,
         744.9,
         3724.5,
         "South"
        ],
        [
         77,
         "2025-04-24",
         "C3462",
         "Vickie Donovan",
         "P3326",
         "Headphones",
         "Accessories",
         "Audio",
         8,
         633.57,
         5068.56,
         "South"
        ],
        [
         78,
         "2024-07-07",
         "C6406",
         "Michael Lawson",
         "P5594",
         "USB Drive",
         "Accessories",
         "Storage Devices",
         1,
         709.61,
         709.61,
         "West"
        ],
        [
         79,
         "2024-07-29",
         "C2711",
         "Brenda Bowman",
         "P7866",
         "Webcam",
         "Electronics",
         "Peripherals",
         6,
         497.35,
         2984.1,
         "West"
        ],
        [
         80,
         "2025-03-29",
         "C9320",
         "Mary Reyes",
         "P6666",
         "Table Lamp",
         "Furniture",
         "Tables",
         3,
         328.68,
         986.04,
         "West"
        ],
        [
         81,
         "2025-05-03",
         "C6723",
         "Warren Craig",
         "P2777",
         "Laptop",
         "Electronics",
         "Mobile Devices",
         5,
         863.22,
         4316.1,
         "East"
        ],
        [
         82,
         "2025-05-19",
         "C2563",
         "Diana Ingram",
         "P8870",
         "Bookshelf",
         "Furniture",
         "Tables",
         4,
         333.76,
         1335.04,
         "West"
        ],
        [
         83,
         "2025-03-01",
         "C8861",
         "Raymond Simmons",
         "P1104",
         "Keyboard",
         "Accessories",
         "Storage Devices",
         8,
         659.58,
         5276.64,
         "West"
        ],
        [
         84,
         "2025-02-16",
         "C6552",
         "Ashley Dalton",
         "P7106",
         "Table Lamp",
         "Furniture",
         "Seating",
         7,
         255.28,
         1786.96,
         "West"
        ],
        [
         85,
         "2025-01-08",
         "C1257",
         "Brian Lee",
         "P4672",
         "Monitor",
         "Electronics",
         "Peripherals",
         2,
         377.4,
         754.8,
         "West"
        ],
        [
         86,
         "2025-01-27",
         "C8348",
         "Bruce Reed",
         "P4956",
         "Bookshelf",
         "Furniture",
         "Tables",
         5,
         539.36,
         2696.8,
         "West"
        ],
        [
         87,
         "2024-12-08",
         "C8732",
         "Jennifer Gonzalez",
         "P6820",
         "Smartphone",
         "Electronics",
         "Computers",
         2,
         216.21,
         432.42,
         "West"
        ],
        [
         88,
         "2025-05-18",
         "C8791",
         "Maria Hart",
         "P3363",
         "Table Lamp",
         "Furniture",
         "Storage",
         2,
         496.8,
         993.6,
         "South"
        ],
        [
         89,
         "2024-10-02",
         "C6101",
         "Luis Robinson",
         "P4921",
         "Office Chair",
         "Furniture",
         "Storage",
         4,
         532.08,
         2128.32,
         "East"
        ],
        [
         90,
         "2024-11-01",
         "C2329",
         "Todd Jones",
         "P8918",
         "Webcam",
         "Electronics",
         "Computers",
         1,
         935.83,
         935.83,
         "East"
        ],
        [
         91,
         "2024-12-04",
         "C7187",
         "Catherine Escobar",
         "P1298",
         "Desk",
         "Furniture",
         "Tables",
         5,
         78.04,
         390.2,
         "West"
        ],
        [
         92,
         "2024-08-27",
         "C9576",
         "Lisa Stevens",
         "P9814",
         "Bookshelf",
         "Furniture",
         "Tables",
         3,
         250.67,
         752.01,
         "North"
        ],
        [
         93,
         "2024-10-04",
         "C5138",
         "Joseph Huang",
         "P8855",
         "Headphones",
         "Accessories",
         "Input Devices",
         8,
         262.07,
         2096.56,
         "East"
        ],
        [
         94,
         "2025-05-29",
         "C5991",
         "Nicole Cameron",
         "P5855",
         "Mouse",
         "Accessories",
         "Storage Devices",
         2,
         838.35,
         1676.7,
         "East"
        ],
        [
         95,
         "2025-01-24",
         "C5017",
         "Albert White",
         "P2074",
         "Headphones",
         "Accessories",
         "Audio",
         8,
         528.36,
         4226.88,
         "North"
        ],
        [
         96,
         "2024-06-17",
         "C1879",
         "Katie Wilson",
         "P3121",
         "Smartphone",
         "Electronics",
         "Computers",
         10,
         99.59,
         995.9,
         "North"
        ],
        [
         97,
         "2024-12-30",
         "C6100",
         "Sara Williams",
         "P4187",
         "Headphones",
         "Accessories",
         "Storage Devices",
         10,
         70.87,
         708.7,
         "West"
        ],
        [
         98,
         "2025-01-24",
         "C4071",
         "Monica Holmes",
         "P3276",
         "Bookshelf",
         "Furniture",
         "Tables",
         8,
         359.27,
         2874.16,
         "East"
        ],
        [
         99,
         "2025-02-22",
         "C6654",
         "Justin Gray",
         "P2188",
         "Laptop",
         "Electronics",
         "Computers",
         4,
         107.59,
         430.36,
         "North"
        ],
        [
         100,
         "2025-03-30",
         "C7746",
         "Frank Martinez",
         "P8448",
         "Mouse",
         "Accessories",
         "Storage Devices",
         3,
         313.74,
         941.22,
         "West"
        ],
        [
         101,
         "2024-08-27",
         "C9773",
         "Heather Reeves",
         "P7586",
         "Office Chair",
         "Furniture",
         "Seating",
         4,
         961.16,
         3844.64,
         "East"
        ],
        [
         102,
         "2024-11-16",
         "C5957",
         "Larry Garcia",
         "P6022",
         "Mouse",
         "Accessories",
         "Input Devices",
         6,
         633.12,
         3798.72,
         "North"
        ]
       ],
       "datasetInfos": [
        {
         "name": "_sqldf",
         "schema": {
          "fields": [
           {
            "metadata": {},
            "name": "OrderID",
            "nullable": true,
            "type": "integer"
           },
           {
            "metadata": {
             "__detected_date_formats": "yyyy-M-d"
            },
            "name": "OrderDate",
            "nullable": true,
            "type": "date"
           },
           {
            "metadata": {},
            "name": "CustomerID",
            "nullable": true,
            "type": "string"
           },
           {
            "metadata": {},
            "name": "CustomerName",
            "nullable": true,
            "type": "string"
           },
           {
            "metadata": {},
            "name": "ProductID",
            "nullable": true,
            "type": "string"
           },
           {
            "metadata": {},
            "name": "ProductName",
            "nullable": true,
            "type": "string"
           },
           {
            "metadata": {},
            "name": "Category",
            "nullable": true,
            "type": "string"
           },
           {
            "metadata": {},
            "name": "SubCategory",
            "nullable": true,
            "type": "string"
           },
           {
            "metadata": {},
            "name": "Quantity",
            "nullable": true,
            "type": "integer"
           },
           {
            "metadata": {},
            "name": "UnitPrice",
            "nullable": true,
            "type": "double"
           },
           {
            "metadata": {},
            "name": "TotalAmount",
            "nullable": true,
            "type": "double"
           },
           {
            "metadata": {},
            "name": "Region",
            "nullable": true,
            "type": "string"
           }
          ],
          "type": "struct"
         },
         "tableIdentifier": null,
         "typeStr": "pyspark.sql.connect.dataframe.DataFrame"
        }
       ],
       "dbfsResultPath": null,
       "isJsonSchema": true,
       "metadata": {
        "createTempViewForImplicitDf": true,
        "dataframeName": "_sqldf",
        "executionCount": 8
       },
       "overflow": false,
       "plotOptions": {
        "customPlotOptions": {},
        "displayType": "table",
        "pivotAggregation": null,
        "pivotColumns": null,
        "xColumns": null,
        "yColumns": null
       },
       "removedWidgets": [],
       "schema": [
        {
         "metadata": "{}",
         "name": "OrderID",
         "type": "\"integer\""
        },
        {
         "metadata": "{\"__detected_date_formats\": \"yyyy-M-d\"}",
         "name": "OrderDate",
         "type": "\"date\""
        },
        {
         "metadata": "{}",
         "name": "CustomerID",
         "type": "\"string\""
        },
        {
         "metadata": "{}",
         "name": "CustomerName",
         "type": "\"string\""
        },
        {
         "metadata": "{}",
         "name": "ProductID",
         "type": "\"string\""
        },
        {
         "metadata": "{}",
         "name": "ProductName",
         "type": "\"string\""
        },
        {
         "metadata": "{}",
         "name": "Category",
         "type": "\"string\""
        },
        {
         "metadata": "{}",
         "name": "SubCategory",
         "type": "\"string\""
        },
        {
         "metadata": "{}",
         "name": "Quantity",
         "type": "\"integer\""
        },
        {
         "metadata": "{}",
         "name": "UnitPrice",
         "type": "\"double\""
        },
        {
         "metadata": "{}",
         "name": "TotalAmount",
         "type": "\"double\""
        },
        {
         "metadata": "{}",
         "name": "Region",
         "type": "\"string\""
        }
       ],
       "type": "table"
      }
     },
     "output_type": "display_data"
    }
   ],
   "source": [
    "%sql\n",
    "select * from sales limit 102;"
   ]
  },
  {
   "cell_type": "markdown",
   "metadata": {
    "application/vnd.databricks.v1+cell": {
     "cellMetadata": {},
     "inputWidgets": {},
     "nuid": "10e7ca56-4159-4bac-bc8c-fa5614d3e002",
     "showTitle": false,
     "tableResultSettingsMap": {},
     "title": ""
    }
   },
   "source": [
    "## Inorder to enter new entries we create a dataframe"
   ]
  },
  {
   "cell_type": "code",
   "execution_count": 0,
   "metadata": {
    "application/vnd.databricks.v1+cell": {
     "cellMetadata": {
      "byteLimit": 2048000,
      "rowLimit": 10000
     },
     "inputWidgets": {},
     "nuid": "0f7b3fd8-dbfa-4314-af66-7ff5eed0615a",
     "showTitle": false,
     "tableResultSettingsMap": {},
     "title": ""
    }
   },
   "outputs": [
    {
     "output_type": "display_data",
     "data": {
      "text/html": [
       "<style scoped>\n",
       "  .table-result-container {\n",
       "    max-height: 300px;\n",
       "    overflow: auto;\n",
       "  }\n",
       "  table, th, td {\n",
       "    border: 1px solid black;\n",
       "    border-collapse: collapse;\n",
       "  }\n",
       "  th, td {\n",
       "    padding: 5px;\n",
       "  }\n",
       "  th {\n",
       "    text-align: left;\n",
       "  }\n",
       "</style><div class='table-result-container'><table class='table-result'><thead style='background-color: white'><tr><th>OrderID</th><th>OrderDate</th><th>CustomerID</th><th>CustomerName</th><th>ProductID</th><th>ProductName</th><th>Category</th><th>SubCategory</th><th>Quantity</th><th>UnitPrice</th><th>TotalAmount</th><th>Region</th></tr></thead><tbody><tr><td>101</td><td>2025-06-18</td><td>C001</td><td>Alice Williams</td><td>P101</td><td>Mechanical Keyboard</td><td>Electronics</td><td>Keyboards</td><td>2</td><td>200.0</td><td>400.0</td><td>South</td></tr><tr><td>9999</td><td>2025-06-19</td><td>C999</td><td>John Blaze</td><td>P999</td><td>Wireless Router</td><td>Electronics</td><td>Networking</td><td>1</td><td>1500.0</td><td>1500.0</td><td>North</td></tr><tr><td>102</td><td>2025-06-20</td><td>C002</td><td>Bob Smith</td><td>P102</td><td>Gaming Mouse</td><td>Electronics</td><td>Mice</td><td>3</td><td>50.0</td><td>150.0</td><td>West</td></tr><tr><td>103</td><td>2025-06-21</td><td>C003</td><td>Carol Johnson</td><td>P103</td><td>Laptop Stand</td><td>Electronics</td><td>Accessories</td><td>1</td><td>75.0</td><td>75.0</td><td>East</td></tr></tbody></table></div>"
      ]
     },
     "metadata": {
      "application/vnd.databricks.v1+output": {
       "addedWidgets": {},
       "aggData": [],
       "aggError": "",
       "aggOverflow": false,
       "aggSchema": [],
       "aggSeriesLimitReached": false,
       "aggType": "",
       "arguments": {},
       "columnCustomDisplayInfos": {},
       "data": [
        [
         101,
         "2025-06-18",
         "C001",
         "Alice Williams",
         "P101",
         "Mechanical Keyboard",
         "Electronics",
         "Keyboards",
         2,
         200.0,
         400.0,
         "South"
        ],
        [
         9999,
         "2025-06-19",
         "C999",
         "John Blaze",
         "P999",
         "Wireless Router",
         "Electronics",
         "Networking",
         1,
         1500.0,
         1500.0,
         "North"
        ],
        [
         102,
         "2025-06-20",
         "C002",
         "Bob Smith",
         "P102",
         "Gaming Mouse",
         "Electronics",
         "Mice",
         3,
         50.0,
         150.0,
         "West"
        ],
        [
         103,
         "2025-06-21",
         "C003",
         "Carol Johnson",
         "P103",
         "Laptop Stand",
         "Electronics",
         "Accessories",
         1,
         75.0,
         75.0,
         "East"
        ]
       ],
       "datasetInfos": [],
       "dbfsResultPath": null,
       "isJsonSchema": true,
       "metadata": {},
       "overflow": false,
       "plotOptions": {
        "customPlotOptions": {},
        "displayType": "table",
        "pivotAggregation": null,
        "pivotColumns": null,
        "xColumns": null,
        "yColumns": null
       },
       "removedWidgets": [],
       "schema": [
        {
         "metadata": "{}",
         "name": "OrderID",
         "type": "\"long\""
        },
        {
         "metadata": "{}",
         "name": "OrderDate",
         "type": "\"date\""
        },
        {
         "metadata": "{}",
         "name": "CustomerID",
         "type": "\"string\""
        },
        {
         "metadata": "{}",
         "name": "CustomerName",
         "type": "\"string\""
        },
        {
         "metadata": "{}",
         "name": "ProductID",
         "type": "\"string\""
        },
        {
         "metadata": "{}",
         "name": "ProductName",
         "type": "\"string\""
        },
        {
         "metadata": "{}",
         "name": "Category",
         "type": "\"string\""
        },
        {
         "metadata": "{}",
         "name": "SubCategory",
         "type": "\"string\""
        },
        {
         "metadata": "{}",
         "name": "Quantity",
         "type": "\"long\""
        },
        {
         "metadata": "{}",
         "name": "UnitPrice",
         "type": "\"double\""
        },
        {
         "metadata": "{}",
         "name": "TotalAmount",
         "type": "\"double\""
        },
        {
         "metadata": "{}",
         "name": "Region",
         "type": "\"string\""
        }
       ],
       "type": "table"
      }
     },
     "output_type": "display_data"
    }
   ],
   "source": [
    "from pyspark.sql import Row\n",
    "from pyspark.sql.functions import to_date\n",
    "from pyspark.sql.types import DateType\n",
    "\n",
    "\n",
    "upsert_data = [\n",
    "    Row(\n",
    "        OrderID=101,\n",
    "        OrderDate=\"2025-06-18\",\n",
    "        CustomerID=\"C001\",\n",
    "        CustomerName=\"Alice Williams\",\n",
    "        ProductID=\"P101\",\n",
    "        ProductName=\"Mechanical Keyboard\",\n",
    "        Category=\"Electronics\",\n",
    "        SubCategory=\"Keyboards\",\n",
    "        Quantity=2,\n",
    "        UnitPrice=200.0,\n",
    "        TotalAmount=400.0,\n",
    "        Region=\"South\"\n",
    "    ),\n",
    "    Row(\n",
    "        OrderID=9999,\n",
    "        OrderDate=\"2025-06-19\",\n",
    "        CustomerID=\"C999\",\n",
    "        CustomerName=\"John Blaze\",\n",
    "        ProductID=\"P999\",\n",
    "        ProductName=\"Wireless Router\",\n",
    "        Category=\"Electronics\",\n",
    "        SubCategory=\"Networking\",\n",
    "        Quantity=1,\n",
    "        UnitPrice=1500.0,\n",
    "        TotalAmount=1500.0,\n",
    "        Region=\"North\"\n",
    "    ),\n",
    "    Row(\n",
    "        OrderID=102,\n",
    "        OrderDate=\"2025-06-20\",\n",
    "        CustomerID=\"C002\",\n",
    "        CustomerName=\"Bob Smith\",\n",
    "        ProductID=\"P102\",\n",
    "        ProductName=\"Gaming Mouse\",\n",
    "        Category=\"Electronics\",\n",
    "        SubCategory=\"Mice\",\n",
    "        Quantity=3,\n",
    "        UnitPrice=50.0,\n",
    "        TotalAmount=150.0,\n",
    "        Region=\"West\"\n",
    "    ),\n",
    "    Row(\n",
    "        OrderID=103,\n",
    "        OrderDate=\"2025-06-21\",\n",
    "        CustomerID=\"C003\",\n",
    "        CustomerName=\"Carol Johnson\",\n",
    "        ProductID=\"P103\",\n",
    "        ProductName=\"Laptop Stand\",\n",
    "        Category=\"Electronics\",\n",
    "        SubCategory=\"Accessories\",\n",
    "        Quantity=1,\n",
    "        UnitPrice=75.0,\n",
    "        TotalAmount=75.0,\n",
    "        Region=\"East\"\n",
    "    )\n",
    "]\n",
    "\n",
    "df_upsert = spark.createDataFrame(upsert_data)\n",
    "\n",
    "df_upsert = df_upsert.withColumn(\"OrderDate\", to_date(df_upsert[\"OrderDate\"], \"yyyy-MM-dd\"))\n",
    "\n",
    "df_upsert.createOrReplaceTempView(\"updates\")\n",
    "\n",
    "display(df_upsert)"
   ]
  },
  {
   "cell_type": "code",
   "execution_count": 0,
   "metadata": {
    "application/vnd.databricks.v1+cell": {
     "cellMetadata": {
      "byteLimit": 2048000,
      "implicitDf": true,
      "rowLimit": 10000
     },
     "inputWidgets": {},
     "nuid": "f092d046-67f0-4024-b615-a243debcbf35",
     "showTitle": false,
     "tableResultSettingsMap": {},
     "title": ""
    }
   },
   "outputs": [
    {
     "output_type": "display_data",
     "data": {
      "text/html": [
       "<style scoped>\n",
       "  .table-result-container {\n",
       "    max-height: 300px;\n",
       "    overflow: auto;\n",
       "  }\n",
       "  table, th, td {\n",
       "    border: 1px solid black;\n",
       "    border-collapse: collapse;\n",
       "  }\n",
       "  th, td {\n",
       "    padding: 5px;\n",
       "  }\n",
       "  th {\n",
       "    text-align: left;\n",
       "  }\n",
       "</style><div class='table-result-container'><table class='table-result'><thead style='background-color: white'><tr><th>OrderID</th><th>OrderDate</th><th>CustomerID</th><th>CustomerName</th><th>ProductID</th><th>ProductName</th><th>Category</th><th>SubCategory</th><th>Quantity</th><th>UnitPrice</th><th>TotalAmount</th><th>Region</th></tr></thead><tbody><tr><td>101</td><td>2025-06-18</td><td>C001</td><td>Alice Williams</td><td>P101</td><td>Mechanical Keyboard</td><td>Electronics</td><td>Keyboards</td><td>2</td><td>200.0</td><td>400.0</td><td>South</td></tr><tr><td>9999</td><td>2025-06-19</td><td>C999</td><td>John Blaze</td><td>P999</td><td>Wireless Router</td><td>Electronics</td><td>Networking</td><td>1</td><td>1500.0</td><td>1500.0</td><td>North</td></tr><tr><td>102</td><td>2025-06-20</td><td>C002</td><td>Bob Smith</td><td>P102</td><td>Gaming Mouse</td><td>Electronics</td><td>Mice</td><td>3</td><td>50.0</td><td>150.0</td><td>West</td></tr><tr><td>103</td><td>2025-06-21</td><td>C003</td><td>Carol Johnson</td><td>P103</td><td>Laptop Stand</td><td>Electronics</td><td>Accessories</td><td>1</td><td>75.0</td><td>75.0</td><td>East</td></tr></tbody></table></div>"
      ]
     },
     "metadata": {
      "application/vnd.databricks.v1+output": {
       "addedWidgets": {},
       "aggData": [],
       "aggError": "",
       "aggOverflow": false,
       "aggSchema": [],
       "aggSeriesLimitReached": false,
       "aggType": "",
       "arguments": {},
       "columnCustomDisplayInfos": {},
       "data": [
        [
         101,
         "2025-06-18",
         "C001",
         "Alice Williams",
         "P101",
         "Mechanical Keyboard",
         "Electronics",
         "Keyboards",
         2,
         200.0,
         400.0,
         "South"
        ],
        [
         9999,
         "2025-06-19",
         "C999",
         "John Blaze",
         "P999",
         "Wireless Router",
         "Electronics",
         "Networking",
         1,
         1500.0,
         1500.0,
         "North"
        ],
        [
         102,
         "2025-06-20",
         "C002",
         "Bob Smith",
         "P102",
         "Gaming Mouse",
         "Electronics",
         "Mice",
         3,
         50.0,
         150.0,
         "West"
        ],
        [
         103,
         "2025-06-21",
         "C003",
         "Carol Johnson",
         "P103",
         "Laptop Stand",
         "Electronics",
         "Accessories",
         1,
         75.0,
         75.0,
         "East"
        ]
       ],
       "datasetInfos": [
        {
         "name": "_sqldf",
         "schema": {
          "fields": [
           {
            "metadata": {},
            "name": "OrderID",
            "nullable": true,
            "type": "long"
           },
           {
            "metadata": {},
            "name": "OrderDate",
            "nullable": true,
            "type": "date"
           },
           {
            "metadata": {},
            "name": "CustomerID",
            "nullable": true,
            "type": "string"
           },
           {
            "metadata": {},
            "name": "CustomerName",
            "nullable": true,
            "type": "string"
           },
           {
            "metadata": {},
            "name": "ProductID",
            "nullable": true,
            "type": "string"
           },
           {
            "metadata": {},
            "name": "ProductName",
            "nullable": true,
            "type": "string"
           },
           {
            "metadata": {},
            "name": "Category",
            "nullable": true,
            "type": "string"
           },
           {
            "metadata": {},
            "name": "SubCategory",
            "nullable": true,
            "type": "string"
           },
           {
            "metadata": {},
            "name": "Quantity",
            "nullable": true,
            "type": "long"
           },
           {
            "metadata": {},
            "name": "UnitPrice",
            "nullable": true,
            "type": "double"
           },
           {
            "metadata": {},
            "name": "TotalAmount",
            "nullable": true,
            "type": "double"
           },
           {
            "metadata": {},
            "name": "Region",
            "nullable": true,
            "type": "string"
           }
          ],
          "type": "struct"
         },
         "tableIdentifier": null,
         "typeStr": "pyspark.sql.connect.dataframe.DataFrame"
        }
       ],
       "dbfsResultPath": null,
       "isJsonSchema": true,
       "metadata": {
        "createTempViewForImplicitDf": true,
        "dataframeName": "_sqldf",
        "executionCount": 14
       },
       "overflow": false,
       "plotOptions": {
        "customPlotOptions": {},
        "displayType": "table",
        "pivotAggregation": null,
        "pivotColumns": null,
        "xColumns": null,
        "yColumns": null
       },
       "removedWidgets": [],
       "schema": [
        {
         "metadata": "{}",
         "name": "OrderID",
         "type": "\"long\""
        },
        {
         "metadata": "{}",
         "name": "OrderDate",
         "type": "\"date\""
        },
        {
         "metadata": "{}",
         "name": "CustomerID",
         "type": "\"string\""
        },
        {
         "metadata": "{}",
         "name": "CustomerName",
         "type": "\"string\""
        },
        {
         "metadata": "{}",
         "name": "ProductID",
         "type": "\"string\""
        },
        {
         "metadata": "{}",
         "name": "ProductName",
         "type": "\"string\""
        },
        {
         "metadata": "{}",
         "name": "Category",
         "type": "\"string\""
        },
        {
         "metadata": "{}",
         "name": "SubCategory",
         "type": "\"string\""
        },
        {
         "metadata": "{}",
         "name": "Quantity",
         "type": "\"long\""
        },
        {
         "metadata": "{}",
         "name": "UnitPrice",
         "type": "\"double\""
        },
        {
         "metadata": "{}",
         "name": "TotalAmount",
         "type": "\"double\""
        },
        {
         "metadata": "{}",
         "name": "Region",
         "type": "\"string\""
        }
       ],
       "type": "table"
      }
     },
     "output_type": "display_data"
    }
   ],
   "source": [
    "%sql\n",
    "select * from updates;"
   ]
  },
  {
   "cell_type": "code",
   "execution_count": 0,
   "metadata": {
    "application/vnd.databricks.v1+cell": {
     "cellMetadata": {
      "byteLimit": 2048000,
      "implicitDf": true,
      "rowLimit": 10000
     },
     "inputWidgets": {},
     "nuid": "3eff7352-c688-479a-866b-1a986334b2e3",
     "showTitle": false,
     "tableResultSettingsMap": {},
     "title": ""
    }
   },
   "outputs": [
    {
     "output_type": "display_data",
     "data": {
      "text/html": [
       "<style scoped>\n",
       "  .table-result-container {\n",
       "    max-height: 300px;\n",
       "    overflow: auto;\n",
       "  }\n",
       "  table, th, td {\n",
       "    border: 1px solid black;\n",
       "    border-collapse: collapse;\n",
       "  }\n",
       "  th, td {\n",
       "    padding: 5px;\n",
       "  }\n",
       "  th {\n",
       "    text-align: left;\n",
       "  }\n",
       "</style><div class='table-result-container'><table class='table-result'><thead style='background-color: white'><tr><th>num_affected_rows</th><th>num_updated_rows</th><th>num_deleted_rows</th><th>num_inserted_rows</th></tr></thead><tbody><tr><td>4</td><td>4</td><td>0</td><td>0</td></tr></tbody></table></div>"
      ]
     },
     "metadata": {
      "application/vnd.databricks.v1+output": {
       "addedWidgets": {},
       "aggData": [],
       "aggError": "",
       "aggOverflow": false,
       "aggSchema": [],
       "aggSeriesLimitReached": false,
       "aggType": "",
       "arguments": {},
       "columnCustomDisplayInfos": {},
       "data": [
        [
         4,
         4,
         0,
         0
        ]
       ],
       "datasetInfos": [
        {
         "name": "_sqldf",
         "schema": {
          "fields": [
           {
            "metadata": {},
            "name": "num_affected_rows",
            "nullable": true,
            "type": "long"
           },
           {
            "metadata": {},
            "name": "num_updated_rows",
            "nullable": true,
            "type": "long"
           },
           {
            "metadata": {},
            "name": "num_deleted_rows",
            "nullable": true,
            "type": "long"
           },
           {
            "metadata": {},
            "name": "num_inserted_rows",
            "nullable": true,
            "type": "long"
           }
          ],
          "type": "struct"
         },
         "tableIdentifier": null,
         "typeStr": "pyspark.sql.connect.dataframe.DataFrame"
        }
       ],
       "dbfsResultPath": null,
       "isJsonSchema": true,
       "metadata": {
        "createTempViewForImplicitDf": true,
        "dataframeName": "_sqldf",
        "executionCount": 15
       },
       "overflow": false,
       "plotOptions": {
        "customPlotOptions": {},
        "displayType": "table",
        "pivotAggregation": null,
        "pivotColumns": null,
        "xColumns": null,
        "yColumns": null
       },
       "removedWidgets": [],
       "schema": [
        {
         "metadata": "{}",
         "name": "num_affected_rows",
         "type": "\"long\""
        },
        {
         "metadata": "{}",
         "name": "num_updated_rows",
         "type": "\"long\""
        },
        {
         "metadata": "{}",
         "name": "num_deleted_rows",
         "type": "\"long\""
        },
        {
         "metadata": "{}",
         "name": "num_inserted_rows",
         "type": "\"long\""
        }
       ],
       "type": "table"
      }
     },
     "output_type": "display_data"
    }
   ],
   "source": [
    "%sql\n",
    "merge into sales as base\n",
    "using updates as upd\n",
    "on base.OrderID = upd.OrderID\n",
    "\n",
    "when matched then \n",
    "update set *\n",
    "when not matched then \n",
    "insert *"
   ]
  },
  {
   "cell_type": "code",
   "execution_count": 0,
   "metadata": {
    "application/vnd.databricks.v1+cell": {
     "cellMetadata": {
      "byteLimit": 2048000,
      "implicitDf": true,
      "rowLimit": 10000
     },
     "inputWidgets": {},
     "nuid": "343124db-92d5-4973-9822-a5d5193f0298",
     "showTitle": false,
     "tableResultSettingsMap": {},
     "title": ""
    }
   },
   "outputs": [
    {
     "output_type": "display_data",
     "data": {
      "text/html": [
       "<style scoped>\n",
       "  .table-result-container {\n",
       "    max-height: 300px;\n",
       "    overflow: auto;\n",
       "  }\n",
       "  table, th, td {\n",
       "    border: 1px solid black;\n",
       "    border-collapse: collapse;\n",
       "  }\n",
       "  th, td {\n",
       "    padding: 5px;\n",
       "  }\n",
       "  th {\n",
       "    text-align: left;\n",
       "  }\n",
       "</style><div class='table-result-container'><table class='table-result'><thead style='background-color: white'><tr><th>OrderID</th><th>OrderDate</th><th>CustomerID</th><th>CustomerName</th><th>ProductID</th><th>ProductName</th><th>Category</th><th>SubCategory</th><th>Quantity</th><th>UnitPrice</th><th>TotalAmount</th><th>Region</th></tr></thead><tbody><tr><td>102</td><td>2025-06-20</td><td>C002</td><td>Bob Smith</td><td>P102</td><td>Gaming Mouse</td><td>Electronics</td><td>Mice</td><td>3</td><td>50.0</td><td>150.0</td><td>West</td></tr></tbody></table></div>"
      ]
     },
     "metadata": {
      "application/vnd.databricks.v1+output": {
       "addedWidgets": {},
       "aggData": [],
       "aggError": "",
       "aggOverflow": false,
       "aggSchema": [],
       "aggSeriesLimitReached": false,
       "aggType": "",
       "arguments": {},
       "columnCustomDisplayInfos": {},
       "data": [
        [
         102,
         "2025-06-20",
         "C002",
         "Bob Smith",
         "P102",
         "Gaming Mouse",
         "Electronics",
         "Mice",
         3,
         50.0,
         150.0,
         "West"
        ]
       ],
       "datasetInfos": [
        {
         "name": "_sqldf",
         "schema": {
          "fields": [
           {
            "metadata": {},
            "name": "OrderID",
            "nullable": true,
            "type": "integer"
           },
           {
            "metadata": {
             "__detected_date_formats": "yyyy-M-d"
            },
            "name": "OrderDate",
            "nullable": true,
            "type": "date"
           },
           {
            "metadata": {},
            "name": "CustomerID",
            "nullable": true,
            "type": "string"
           },
           {
            "metadata": {},
            "name": "CustomerName",
            "nullable": true,
            "type": "string"
           },
           {
            "metadata": {},
            "name": "ProductID",
            "nullable": true,
            "type": "string"
           },
           {
            "metadata": {},
            "name": "ProductName",
            "nullable": true,
            "type": "string"
           },
           {
            "metadata": {},
            "name": "Category",
            "nullable": true,
            "type": "string"
           },
           {
            "metadata": {},
            "name": "SubCategory",
            "nullable": true,
            "type": "string"
           },
           {
            "metadata": {},
            "name": "Quantity",
            "nullable": true,
            "type": "integer"
           },
           {
            "metadata": {},
            "name": "UnitPrice",
            "nullable": true,
            "type": "double"
           },
           {
            "metadata": {},
            "name": "TotalAmount",
            "nullable": true,
            "type": "double"
           },
           {
            "metadata": {},
            "name": "Region",
            "nullable": true,
            "type": "string"
           }
          ],
          "type": "struct"
         },
         "tableIdentifier": null,
         "typeStr": "pyspark.sql.connect.dataframe.DataFrame"
        }
       ],
       "dbfsResultPath": null,
       "isJsonSchema": true,
       "metadata": {
        "createTempViewForImplicitDf": true,
        "dataframeName": "_sqldf",
        "executionCount": 18
       },
       "overflow": false,
       "plotOptions": {
        "customPlotOptions": {},
        "displayType": "table",
        "pivotAggregation": null,
        "pivotColumns": null,
        "xColumns": null,
        "yColumns": null
       },
       "removedWidgets": [],
       "schema": [
        {
         "metadata": "{}",
         "name": "OrderID",
         "type": "\"integer\""
        },
        {
         "metadata": "{\"__detected_date_formats\": \"yyyy-M-d\"}",
         "name": "OrderDate",
         "type": "\"date\""
        },
        {
         "metadata": "{}",
         "name": "CustomerID",
         "type": "\"string\""
        },
        {
         "metadata": "{}",
         "name": "CustomerName",
         "type": "\"string\""
        },
        {
         "metadata": "{}",
         "name": "ProductID",
         "type": "\"string\""
        },
        {
         "metadata": "{}",
         "name": "ProductName",
         "type": "\"string\""
        },
        {
         "metadata": "{}",
         "name": "Category",
         "type": "\"string\""
        },
        {
         "metadata": "{}",
         "name": "SubCategory",
         "type": "\"string\""
        },
        {
         "metadata": "{}",
         "name": "Quantity",
         "type": "\"integer\""
        },
        {
         "metadata": "{}",
         "name": "UnitPrice",
         "type": "\"double\""
        },
        {
         "metadata": "{}",
         "name": "TotalAmount",
         "type": "\"double\""
        },
        {
         "metadata": "{}",
         "name": "Region",
         "type": "\"string\""
        }
       ],
       "type": "table"
      }
     },
     "output_type": "display_data"
    }
   ],
   "source": [
    "%sql\n",
    "select * from sales\n",
    "where OrderID=102\n",
    "order by OrderID desc;"
   ]
  },
  {
   "cell_type": "markdown",
   "metadata": {
    "application/vnd.databricks.v1+cell": {
     "cellMetadata": {},
     "inputWidgets": {},
     "nuid": "efa23040-30bc-47d7-8113-19ba65b652d1",
     "showTitle": false,
     "tableResultSettingsMap": {},
     "title": ""
    }
   },
   "source": [
    "## This is the new value inserted here using upsert transformation "
   ]
  },
  {
   "cell_type": "code",
   "execution_count": 0,
   "metadata": {
    "application/vnd.databricks.v1+cell": {
     "cellMetadata": {
      "byteLimit": 2048000,
      "implicitDf": true,
      "rowLimit": 10000
     },
     "inputWidgets": {},
     "nuid": "43981e5d-d238-47a6-ac7c-62cf96f04e1a",
     "showTitle": false,
     "tableResultSettingsMap": {},
     "title": ""
    }
   },
   "outputs": [
    {
     "output_type": "display_data",
     "data": {
      "text/html": [
       "<style scoped>\n",
       "  .table-result-container {\n",
       "    max-height: 300px;\n",
       "    overflow: auto;\n",
       "  }\n",
       "  table, th, td {\n",
       "    border: 1px solid black;\n",
       "    border-collapse: collapse;\n",
       "  }\n",
       "  th, td {\n",
       "    padding: 5px;\n",
       "  }\n",
       "  th {\n",
       "    text-align: left;\n",
       "  }\n",
       "</style><div class='table-result-container'><table class='table-result'><thead style='background-color: white'><tr><th>OrderID</th><th>OrderDate</th><th>CustomerID</th><th>CustomerName</th><th>ProductID</th><th>ProductName</th><th>Category</th><th>SubCategory</th><th>Quantity</th><th>UnitPrice</th><th>TotalAmount</th><th>Region</th></tr></thead><tbody><tr><td>9999</td><td>2025-06-19</td><td>C999</td><td>John Blaze</td><td>P999</td><td>Wireless Router</td><td>Electronics</td><td>Networking</td><td>1</td><td>1500.0</td><td>1500.0</td><td>North</td></tr></tbody></table></div>"
      ]
     },
     "metadata": {
      "application/vnd.databricks.v1+output": {
       "addedWidgets": {},
       "aggData": [],
       "aggError": "",
       "aggOverflow": false,
       "aggSchema": [],
       "aggSeriesLimitReached": false,
       "aggType": "",
       "arguments": {},
       "columnCustomDisplayInfos": {},
       "data": [
        [
         9999,
         "2025-06-19",
         "C999",
         "John Blaze",
         "P999",
         "Wireless Router",
         "Electronics",
         "Networking",
         1,
         1500.0,
         1500.0,
         "North"
        ]
       ],
       "datasetInfos": [
        {
         "name": "_sqldf",
         "schema": {
          "fields": [
           {
            "metadata": {},
            "name": "OrderID",
            "nullable": true,
            "type": "integer"
           },
           {
            "metadata": {
             "__detected_date_formats": "yyyy-M-d"
            },
            "name": "OrderDate",
            "nullable": true,
            "type": "date"
           },
           {
            "metadata": {},
            "name": "CustomerID",
            "nullable": true,
            "type": "string"
           },
           {
            "metadata": {},
            "name": "CustomerName",
            "nullable": true,
            "type": "string"
           },
           {
            "metadata": {},
            "name": "ProductID",
            "nullable": true,
            "type": "string"
           },
           {
            "metadata": {},
            "name": "ProductName",
            "nullable": true,
            "type": "string"
           },
           {
            "metadata": {},
            "name": "Category",
            "nullable": true,
            "type": "string"
           },
           {
            "metadata": {},
            "name": "SubCategory",
            "nullable": true,
            "type": "string"
           },
           {
            "metadata": {},
            "name": "Quantity",
            "nullable": true,
            "type": "integer"
           },
           {
            "metadata": {},
            "name": "UnitPrice",
            "nullable": true,
            "type": "double"
           },
           {
            "metadata": {},
            "name": "TotalAmount",
            "nullable": true,
            "type": "double"
           },
           {
            "metadata": {},
            "name": "Region",
            "nullable": true,
            "type": "string"
           }
          ],
          "type": "struct"
         },
         "tableIdentifier": null,
         "typeStr": "pyspark.sql.connect.dataframe.DataFrame"
        }
       ],
       "dbfsResultPath": null,
       "isJsonSchema": true,
       "metadata": {
        "createTempViewForImplicitDf": true,
        "dataframeName": "_sqldf",
        "executionCount": 19
       },
       "overflow": false,
       "plotOptions": {
        "customPlotOptions": {},
        "displayType": "table",
        "pivotAggregation": null,
        "pivotColumns": null,
        "xColumns": null,
        "yColumns": null
       },
       "removedWidgets": [],
       "schema": [
        {
         "metadata": "{}",
         "name": "OrderID",
         "type": "\"integer\""
        },
        {
         "metadata": "{\"__detected_date_formats\": \"yyyy-M-d\"}",
         "name": "OrderDate",
         "type": "\"date\""
        },
        {
         "metadata": "{}",
         "name": "CustomerID",
         "type": "\"string\""
        },
        {
         "metadata": "{}",
         "name": "CustomerName",
         "type": "\"string\""
        },
        {
         "metadata": "{}",
         "name": "ProductID",
         "type": "\"string\""
        },
        {
         "metadata": "{}",
         "name": "ProductName",
         "type": "\"string\""
        },
        {
         "metadata": "{}",
         "name": "Category",
         "type": "\"string\""
        },
        {
         "metadata": "{}",
         "name": "SubCategory",
         "type": "\"string\""
        },
        {
         "metadata": "{}",
         "name": "Quantity",
         "type": "\"integer\""
        },
        {
         "metadata": "{}",
         "name": "UnitPrice",
         "type": "\"double\""
        },
        {
         "metadata": "{}",
         "name": "TotalAmount",
         "type": "\"double\""
        },
        {
         "metadata": "{}",
         "name": "Region",
         "type": "\"string\""
        }
       ],
       "type": "table"
      }
     },
     "output_type": "display_data"
    }
   ],
   "source": [
    "%sql\n",
    "select * from sales\n",
    "where OrderID='9999'\n",
    "order by OrderID desc"
   ]
  },
  {
   "cell_type": "code",
   "execution_count": 0,
   "metadata": {
    "application/vnd.databricks.v1+cell": {
     "cellMetadata": {
      "byteLimit": 2048000,
      "implicitDf": true,
      "rowLimit": 10000
     },
     "inputWidgets": {},
     "nuid": "03738669-1443-43c5-a35c-052d54921741",
     "showTitle": false,
     "tableResultSettingsMap": {},
     "title": ""
    }
   },
   "outputs": [
    {
     "output_type": "display_data",
     "data": {
      "text/html": [
       "<style scoped>\n",
       "  .table-result-container {\n",
       "    max-height: 300px;\n",
       "    overflow: auto;\n",
       "  }\n",
       "  table, th, td {\n",
       "    border: 1px solid black;\n",
       "    border-collapse: collapse;\n",
       "  }\n",
       "  th, td {\n",
       "    padding: 5px;\n",
       "  }\n",
       "  th {\n",
       "    text-align: left;\n",
       "  }\n",
       "</style><div class='table-result-container'><table class='table-result'><thead style='background-color: white'><tr><th>OrderID</th><th>OrderDate</th><th>CustomerID</th><th>CustomerName</th><th>ProductID</th><th>ProductName</th><th>Category</th><th>SubCategory</th><th>Quantity</th><th>UnitPrice</th><th>TotalAmount</th><th>Region</th></tr></thead><tbody><tr><td>101</td><td>2025-06-18</td><td>C001</td><td>Alice Williams</td><td>P101</td><td>Mechanical Keyboard</td><td>Electronics</td><td>Keyboards</td><td>2</td><td>200.0</td><td>400.0</td><td>South</td></tr></tbody></table></div>"
      ]
     },
     "metadata": {
      "application/vnd.databricks.v1+output": {
       "addedWidgets": {},
       "aggData": [],
       "aggError": "",
       "aggOverflow": false,
       "aggSchema": [],
       "aggSeriesLimitReached": false,
       "aggType": "",
       "arguments": {},
       "columnCustomDisplayInfos": {},
       "data": [
        [
         101,
         "2025-06-18",
         "C001",
         "Alice Williams",
         "P101",
         "Mechanical Keyboard",
         "Electronics",
         "Keyboards",
         2,
         200.0,
         400.0,
         "South"
        ]
       ],
       "datasetInfos": [
        {
         "name": "_sqldf",
         "schema": {
          "fields": [
           {
            "metadata": {},
            "name": "OrderID",
            "nullable": true,
            "type": "integer"
           },
           {
            "metadata": {
             "__detected_date_formats": "yyyy-M-d"
            },
            "name": "OrderDate",
            "nullable": true,
            "type": "date"
           },
           {
            "metadata": {},
            "name": "CustomerID",
            "nullable": true,
            "type": "string"
           },
           {
            "metadata": {},
            "name": "CustomerName",
            "nullable": true,
            "type": "string"
           },
           {
            "metadata": {},
            "name": "ProductID",
            "nullable": true,
            "type": "string"
           },
           {
            "metadata": {},
            "name": "ProductName",
            "nullable": true,
            "type": "string"
           },
           {
            "metadata": {},
            "name": "Category",
            "nullable": true,
            "type": "string"
           },
           {
            "metadata": {},
            "name": "SubCategory",
            "nullable": true,
            "type": "string"
           },
           {
            "metadata": {},
            "name": "Quantity",
            "nullable": true,
            "type": "integer"
           },
           {
            "metadata": {},
            "name": "UnitPrice",
            "nullable": true,
            "type": "double"
           },
           {
            "metadata": {},
            "name": "TotalAmount",
            "nullable": true,
            "type": "double"
           },
           {
            "metadata": {},
            "name": "Region",
            "nullable": true,
            "type": "string"
           }
          ],
          "type": "struct"
         },
         "tableIdentifier": null,
         "typeStr": "pyspark.sql.connect.dataframe.DataFrame"
        }
       ],
       "dbfsResultPath": null,
       "isJsonSchema": true,
       "metadata": {
        "createTempViewForImplicitDf": true,
        "dataframeName": "_sqldf",
        "executionCount": 70
       },
       "overflow": false,
       "plotOptions": {
        "customPlotOptions": {},
        "displayType": "table",
        "pivotAggregation": null,
        "pivotColumns": null,
        "xColumns": null,
        "yColumns": null
       },
       "removedWidgets": [],
       "schema": [
        {
         "metadata": "{}",
         "name": "OrderID",
         "type": "\"integer\""
        },
        {
         "metadata": "{\"__detected_date_formats\": \"yyyy-M-d\"}",
         "name": "OrderDate",
         "type": "\"date\""
        },
        {
         "metadata": "{}",
         "name": "CustomerID",
         "type": "\"string\""
        },
        {
         "metadata": "{}",
         "name": "CustomerName",
         "type": "\"string\""
        },
        {
         "metadata": "{}",
         "name": "ProductID",
         "type": "\"string\""
        },
        {
         "metadata": "{}",
         "name": "ProductName",
         "type": "\"string\""
        },
        {
         "metadata": "{}",
         "name": "Category",
         "type": "\"string\""
        },
        {
         "metadata": "{}",
         "name": "SubCategory",
         "type": "\"string\""
        },
        {
         "metadata": "{}",
         "name": "Quantity",
         "type": "\"integer\""
        },
        {
         "metadata": "{}",
         "name": "UnitPrice",
         "type": "\"double\""
        },
        {
         "metadata": "{}",
         "name": "TotalAmount",
         "type": "\"double\""
        },
        {
         "metadata": "{}",
         "name": "Region",
         "type": "\"string\""
        }
       ],
       "type": "table"
      }
     },
     "output_type": "display_data"
    }
   ],
   "source": [
    "%sql\n",
    "select * from sales\n",
    "where OrderID='101'\n",
    "order by OrderID asc"
   ]
  },
  {
   "cell_type": "code",
   "execution_count": 0,
   "metadata": {
    "application/vnd.databricks.v1+cell": {
     "cellMetadata": {
      "byteLimit": 2048000,
      "rowLimit": 10000
     },
     "inputWidgets": {},
     "nuid": "44e14045-de1e-4fb7-953c-c3be6a12e9f8",
     "showTitle": false,
     "tableResultSettingsMap": {},
     "title": ""
    }
   },
   "outputs": [],
   "source": [
    "spark.table(\"sales\").write \\\n",
    "    .format(\"delta\") \\\n",
    "    .mode(\"overwrite\") \\\n",
    "    .option(\"overwriteSchema\", \"true\") \\\n",
    "    .saveAsTable(\"silver.sales_2k\")"
   ]
  },
  {
   "cell_type": "markdown",
   "metadata": {
    "application/vnd.databricks.v1+cell": {
     "cellMetadata": {},
     "inputWidgets": {},
     "nuid": "ece18934-52b5-4a01-a0c8-6b310872c8b8",
     "showTitle": false,
     "tableResultSettingsMap": {},
     "title": ""
    }
   },
   "source": [
    "## Time Travel"
   ]
  },
  {
   "cell_type": "code",
   "execution_count": 0,
   "metadata": {
    "application/vnd.databricks.v1+cell": {
     "cellMetadata": {
      "byteLimit": 2048000,
      "implicitDf": true,
      "rowLimit": 10000
     },
     "inputWidgets": {},
     "nuid": "b66d29db-9f15-4364-adc1-686e36bc19af",
     "showTitle": false,
     "tableResultSettingsMap": {},
     "title": ""
    }
   },
   "outputs": [
    {
     "output_type": "display_data",
     "data": {
      "text/html": [
       "<style scoped>\n",
       "  .table-result-container {\n",
       "    max-height: 300px;\n",
       "    overflow: auto;\n",
       "  }\n",
       "  table, th, td {\n",
       "    border: 1px solid black;\n",
       "    border-collapse: collapse;\n",
       "  }\n",
       "  th, td {\n",
       "    padding: 5px;\n",
       "  }\n",
       "  th {\n",
       "    text-align: left;\n",
       "  }\n",
       "</style><div class='table-result-container'><table class='table-result'><thead style='background-color: white'><tr><th>version</th><th>timestamp</th><th>userId</th><th>userName</th><th>operation</th><th>operationParameters</th><th>job</th><th>notebook</th><th>clusterId</th><th>readVersion</th><th>isolationLevel</th><th>isBlindAppend</th><th>operationMetrics</th><th>userMetadata</th><th>engineInfo</th></tr></thead><tbody><tr><td>2</td><td>2025-06-25T14:09:09.000Z</td><td>3610430143526681</td><td>shaikmohammedadnandcme048@gmail.com</td><td>CREATE OR REPLACE TABLE AS SELECT</td><td>Map(partitionBy -> [], clusterBy -> [], description -> null, isManaged -> true, properties -> {\"delta.enableDeletionVectors\":\"true\"}, statsOnLoad -> true)</td><td>null</td><td>null</td><td>0625-140143-zo0unff9-v2n</td><td>1</td><td>WriteSerializable</td><td>false</td><td>Map(numFiles -> 1, numRemovedFiles -> 5, numRemovedBytes -> 700622, numOutputRows -> 20000, numOutputBytes -> 691477)</td><td>null</td><td>Databricks-Runtime/16.4.x-aarch64-photon-scala2.12</td></tr><tr><td>1</td><td>2025-06-25T14:06:13.000Z</td><td>3610430143526681</td><td>shaikmohammedadnandcme048@gmail.com</td><td>MERGE</td><td>Map(predicate -> [\"(cast(OrderID#10519 as bigint) = OrderID#10762L)\"], clusterBy -> [], matchedPredicates -> [{\"actionType\":\"update\"}], statsOnLoad -> false, notMatchedBySourcePredicates -> [], notMatchedPredicates -> [{\"actionType\":\"insert\"}])</td><td>null</td><td>null</td><td>0625-140143-zo0unff9-v2n</td><td>0</td><td>WriteSerializable</td><td>false</td><td>Map(numTargetRowsCopied -> 0, numTargetRowsDeleted -> 0, numTargetFilesAdded -> 4, numTargetBytesAdded -> 11887, numTargetBytesRemoved -> 0, numTargetDeletionVectorsAdded -> 1, numTargetRowsMatchedUpdated -> 4, executionTimeMs -> 6066, materializeSourceTimeMs -> 241, numTargetRowsInserted -> 0, numTargetRowsMatchedDeleted -> 0, numTargetDeletionVectorsUpdated -> 0, scanTimeMs -> 2176, numTargetRowsUpdated -> 4, numOutputRows -> 4, numTargetDeletionVectorsRemoved -> 0, numTargetRowsNotMatchedBySourceUpdated -> 0, numTargetChangeFilesAdded -> 0, numSourceRows -> 4, numTargetFilesRemoved -> 0, numTargetRowsNotMatchedBySourceDeleted -> 0, rewriteTimeMs -> 3487)</td><td>null</td><td>Databricks-Runtime/16.4.x-aarch64-photon-scala2.12</td></tr><tr><td>0</td><td>2025-06-25T07:36:49.000Z</td><td>3610430143526681</td><td>shaikmohammedadnandcme048@gmail.com</td><td>CREATE OR REPLACE TABLE AS SELECT</td><td>Map(partitionBy -> [], clusterBy -> [], description -> null, isManaged -> true, properties -> {\"delta.enableDeletionVectors\":\"true\"}, statsOnLoad -> true)</td><td>null</td><td>null</td><td>0625-071953-ophdfxw5-v2n</td><td>null</td><td>WriteSerializable</td><td>false</td><td>Map(numFiles -> 1, numRemovedFiles -> 0, numRemovedBytes -> 0, numOutputRows -> 20000, numOutputBytes -> 688735)</td><td>null</td><td>Databricks-Runtime/16.4.x-aarch64-photon-scala2.12</td></tr></tbody></table></div>"
      ]
     },
     "metadata": {
      "application/vnd.databricks.v1+output": {
       "addedWidgets": {},
       "aggData": [],
       "aggError": "",
       "aggOverflow": false,
       "aggSchema": [],
       "aggSeriesLimitReached": false,
       "aggType": "",
       "arguments": {},
       "columnCustomDisplayInfos": {},
       "data": [
        [
         2,
         "2025-06-25T14:09:09.000Z",
         "3610430143526681",
         "shaikmohammedadnandcme048@gmail.com",
         "CREATE OR REPLACE TABLE AS SELECT",
         {
          "clusterBy": "[]",
          "description": null,
          "isManaged": "true",
          "partitionBy": "[]",
          "properties": "{\"delta.enableDeletionVectors\":\"true\"}",
          "statsOnLoad": "true"
         },
         null,
         null,
         "0625-140143-zo0unff9-v2n",
         1,
         "WriteSerializable",
         false,
         {
          "numFiles": "1",
          "numOutputBytes": "691477",
          "numOutputRows": "20000",
          "numRemovedBytes": "700622",
          "numRemovedFiles": "5"
         },
         null,
         "Databricks-Runtime/16.4.x-aarch64-photon-scala2.12"
        ],
        [
         1,
         "2025-06-25T14:06:13.000Z",
         "3610430143526681",
         "shaikmohammedadnandcme048@gmail.com",
         "MERGE",
         {
          "clusterBy": "[]",
          "matchedPredicates": "[{\"actionType\":\"update\"}]",
          "notMatchedBySourcePredicates": "[]",
          "notMatchedPredicates": "[{\"actionType\":\"insert\"}]",
          "predicate": "[\"(cast(OrderID#10519 as bigint) = OrderID#10762L)\"]",
          "statsOnLoad": "false"
         },
         null,
         null,
         "0625-140143-zo0unff9-v2n",
         0,
         "WriteSerializable",
         false,
         {
          "executionTimeMs": "6066",
          "materializeSourceTimeMs": "241",
          "numOutputRows": "4",
          "numSourceRows": "4",
          "numTargetBytesAdded": "11887",
          "numTargetBytesRemoved": "0",
          "numTargetChangeFilesAdded": "0",
          "numTargetDeletionVectorsAdded": "1",
          "numTargetDeletionVectorsRemoved": "0",
          "numTargetDeletionVectorsUpdated": "0",
          "numTargetFilesAdded": "4",
          "numTargetFilesRemoved": "0",
          "numTargetRowsCopied": "0",
          "numTargetRowsDeleted": "0",
          "numTargetRowsInserted": "0",
          "numTargetRowsMatchedDeleted": "0",
          "numTargetRowsMatchedUpdated": "4",
          "numTargetRowsNotMatchedBySourceDeleted": "0",
          "numTargetRowsNotMatchedBySourceUpdated": "0",
          "numTargetRowsUpdated": "4",
          "rewriteTimeMs": "3487",
          "scanTimeMs": "2176"
         },
         null,
         "Databricks-Runtime/16.4.x-aarch64-photon-scala2.12"
        ],
        [
         0,
         "2025-06-25T07:36:49.000Z",
         "3610430143526681",
         "shaikmohammedadnandcme048@gmail.com",
         "CREATE OR REPLACE TABLE AS SELECT",
         {
          "clusterBy": "[]",
          "description": null,
          "isManaged": "true",
          "partitionBy": "[]",
          "properties": "{\"delta.enableDeletionVectors\":\"true\"}",
          "statsOnLoad": "true"
         },
         null,
         null,
         "0625-071953-ophdfxw5-v2n",
         null,
         "WriteSerializable",
         false,
         {
          "numFiles": "1",
          "numOutputBytes": "688735",
          "numOutputRows": "20000",
          "numRemovedBytes": "0",
          "numRemovedFiles": "0"
         },
         null,
         "Databricks-Runtime/16.4.x-aarch64-photon-scala2.12"
        ]
       ],
       "datasetInfos": [
        {
         "name": "_sqldf",
         "schema": {
          "fields": [
           {
            "metadata": {},
            "name": "version",
            "nullable": true,
            "type": "long"
           },
           {
            "metadata": {},
            "name": "timestamp",
            "nullable": true,
            "type": "timestamp"
           },
           {
            "metadata": {},
            "name": "userId",
            "nullable": true,
            "type": "string"
           },
           {
            "metadata": {},
            "name": "userName",
            "nullable": true,
            "type": "string"
           },
           {
            "metadata": {},
            "name": "operation",
            "nullable": true,
            "type": "string"
           },
           {
            "metadata": {},
            "name": "operationParameters",
            "nullable": true,
            "type": {
             "keyType": "string",
             "type": "map",
             "valueContainsNull": true,
             "valueType": "string"
            }
           },
           {
            "metadata": {},
            "name": "job",
            "nullable": true,
            "type": {
             "fields": [
              {
               "metadata": {},
               "name": "jobId",
               "nullable": true,
               "type": "string"
              },
              {
               "metadata": {},
               "name": "jobName",
               "nullable": true,
               "type": "string"
              },
              {
               "metadata": {},
               "name": "jobRunId",
               "nullable": true,
               "type": "string"
              },
              {
               "metadata": {},
               "name": "runId",
               "nullable": true,
               "type": "string"
              },
              {
               "metadata": {},
               "name": "jobOwnerId",
               "nullable": true,
               "type": "string"
              },
              {
               "metadata": {},
               "name": "triggerType",
               "nullable": true,
               "type": "string"
              }
             ],
             "type": "struct"
            }
           },
           {
            "metadata": {},
            "name": "notebook",
            "nullable": true,
            "type": {
             "fields": [
              {
               "metadata": {},
               "name": "notebookId",
               "nullable": true,
               "type": "string"
              }
             ],
             "type": "struct"
            }
           },
           {
            "metadata": {},
            "name": "clusterId",
            "nullable": true,
            "type": "string"
           },
           {
            "metadata": {},
            "name": "readVersion",
            "nullable": true,
            "type": "long"
           },
           {
            "metadata": {},
            "name": "isolationLevel",
            "nullable": true,
            "type": "string"
           },
           {
            "metadata": {},
            "name": "isBlindAppend",
            "nullable": true,
            "type": "boolean"
           },
           {
            "metadata": {},
            "name": "operationMetrics",
            "nullable": true,
            "type": {
             "keyType": "string",
             "type": "map",
             "valueContainsNull": true,
             "valueType": "string"
            }
           },
           {
            "metadata": {},
            "name": "userMetadata",
            "nullable": true,
            "type": "string"
           },
           {
            "metadata": {},
            "name": "engineInfo",
            "nullable": true,
            "type": "string"
           }
          ],
          "type": "struct"
         },
         "tableIdentifier": null,
         "typeStr": "pyspark.sql.connect.dataframe.DataFrame"
        }
       ],
       "dbfsResultPath": null,
       "isJsonSchema": true,
       "metadata": {
        "createTempViewForImplicitDf": true,
        "dataframeName": "_sqldf",
        "executionCount": 22
       },
       "overflow": false,
       "plotOptions": {
        "customPlotOptions": {},
        "displayType": "table",
        "pivotAggregation": null,
        "pivotColumns": null,
        "xColumns": null,
        "yColumns": null
       },
       "removedWidgets": [],
       "schema": [
        {
         "metadata": "{}",
         "name": "version",
         "type": "\"long\""
        },
        {
         "metadata": "{}",
         "name": "timestamp",
         "type": "\"timestamp\""
        },
        {
         "metadata": "{}",
         "name": "userId",
         "type": "\"string\""
        },
        {
         "metadata": "{}",
         "name": "userName",
         "type": "\"string\""
        },
        {
         "metadata": "{}",
         "name": "operation",
         "type": "\"string\""
        },
        {
         "metadata": "{}",
         "name": "operationParameters",
         "type": "{\"keyType\":\"string\",\"type\":\"map\",\"valueContainsNull\":true,\"valueType\":\"string\"}"
        },
        {
         "metadata": "{}",
         "name": "job",
         "type": "{\"fields\":[{\"metadata\":{},\"name\":\"jobId\",\"nullable\":true,\"type\":\"string\"},{\"metadata\":{},\"name\":\"jobName\",\"nullable\":true,\"type\":\"string\"},{\"metadata\":{},\"name\":\"jobRunId\",\"nullable\":true,\"type\":\"string\"},{\"metadata\":{},\"name\":\"runId\",\"nullable\":true,\"type\":\"string\"},{\"metadata\":{},\"name\":\"jobOwnerId\",\"nullable\":true,\"type\":\"string\"},{\"metadata\":{},\"name\":\"triggerType\",\"nullable\":true,\"type\":\"string\"}],\"type\":\"struct\"}"
        },
        {
         "metadata": "{}",
         "name": "notebook",
         "type": "{\"fields\":[{\"metadata\":{},\"name\":\"notebookId\",\"nullable\":true,\"type\":\"string\"}],\"type\":\"struct\"}"
        },
        {
         "metadata": "{}",
         "name": "clusterId",
         "type": "\"string\""
        },
        {
         "metadata": "{}",
         "name": "readVersion",
         "type": "\"long\""
        },
        {
         "metadata": "{}",
         "name": "isolationLevel",
         "type": "\"string\""
        },
        {
         "metadata": "{}",
         "name": "isBlindAppend",
         "type": "\"boolean\""
        },
        {
         "metadata": "{}",
         "name": "operationMetrics",
         "type": "{\"keyType\":\"string\",\"type\":\"map\",\"valueContainsNull\":true,\"valueType\":\"string\"}"
        },
        {
         "metadata": "{}",
         "name": "userMetadata",
         "type": "\"string\""
        },
        {
         "metadata": "{}",
         "name": "engineInfo",
         "type": "\"string\""
        }
       ],
       "type": "table"
      }
     },
     "output_type": "display_data"
    }
   ],
   "source": [
    "%sql \n",
    "describe history silver.sales_2k"
   ]
  },
  {
   "cell_type": "code",
   "execution_count": 0,
   "metadata": {
    "application/vnd.databricks.v1+cell": {
     "cellMetadata": {
      "byteLimit": 2048000,
      "rowLimit": 10000
     },
     "inputWidgets": {},
     "nuid": "c516459a-2817-4c52-9039-ef11784a8e6c",
     "showTitle": false,
     "tableResultSettingsMap": {},
     "title": ""
    }
   },
   "outputs": [],
   "source": [
    "df_old = spark.read.format(\"delta\") \\\n",
    "    .option(\"versionAsOf\", 2) \\\n",
    "    .table(\"silver.sales_2k\")\n",
    "\n"
   ]
  },
  {
   "cell_type": "code",
   "execution_count": 0,
   "metadata": {
    "application/vnd.databricks.v1+cell": {
     "cellMetadata": {
      "byteLimit": 2048000,
      "rowLimit": 10000
     },
     "inputWidgets": {},
     "nuid": "115e55d6-75fe-4149-ae19-40cfe09a41d5",
     "showTitle": false,
     "tableResultSettingsMap": {},
     "title": ""
    }
   },
   "outputs": [],
   "source": [
    "df_old.createOrReplaceTempView(\"old\")"
   ]
  },
  {
   "cell_type": "code",
   "execution_count": 0,
   "metadata": {
    "application/vnd.databricks.v1+cell": {
     "cellMetadata": {
      "byteLimit": 2048000,
      "implicitDf": true,
      "rowLimit": 10000
     },
     "inputWidgets": {},
     "nuid": "6714fe00-1d4e-4c1a-a710-0d85dee8c73c",
     "showTitle": false,
     "tableResultSettingsMap": {},
     "title": ""
    }
   },
   "outputs": [
    {
     "output_type": "display_data",
     "data": {
      "text/html": [
       "<style scoped>\n",
       "  .table-result-container {\n",
       "    max-height: 300px;\n",
       "    overflow: auto;\n",
       "  }\n",
       "  table, th, td {\n",
       "    border: 1px solid black;\n",
       "    border-collapse: collapse;\n",
       "  }\n",
       "  th, td {\n",
       "    padding: 5px;\n",
       "  }\n",
       "  th {\n",
       "    text-align: left;\n",
       "  }\n",
       "</style><div class='table-result-container'><table class='table-result'><thead style='background-color: white'><tr><th>OrderID</th><th>OrderDate</th><th>CustomerID</th><th>CustomerName</th><th>ProductID</th><th>ProductName</th><th>Category</th><th>SubCategory</th><th>Quantity</th><th>UnitPrice</th><th>TotalAmount</th><th>Region</th></tr></thead><tbody><tr><td>102</td><td>2025-06-20</td><td>C002</td><td>Bob Smith</td><td>P102</td><td>Gaming Mouse</td><td>Electronics</td><td>Mice</td><td>3</td><td>50.0</td><td>150.0</td><td>West</td></tr></tbody></table></div>"
      ]
     },
     "metadata": {
      "application/vnd.databricks.v1+output": {
       "addedWidgets": {},
       "aggData": [],
       "aggError": "",
       "aggOverflow": false,
       "aggSchema": [],
       "aggSeriesLimitReached": false,
       "aggType": "",
       "arguments": {},
       "columnCustomDisplayInfos": {},
       "data": [
        [
         102,
         "2025-06-20",
         "C002",
         "Bob Smith",
         "P102",
         "Gaming Mouse",
         "Electronics",
         "Mice",
         3,
         50.0,
         150.0,
         "West"
        ]
       ],
       "datasetInfos": [
        {
         "name": "_sqldf",
         "schema": {
          "fields": [
           {
            "metadata": {},
            "name": "OrderID",
            "nullable": true,
            "type": "integer"
           },
           {
            "metadata": {
             "__detected_date_formats": "yyyy-M-d"
            },
            "name": "OrderDate",
            "nullable": true,
            "type": "date"
           },
           {
            "metadata": {},
            "name": "CustomerID",
            "nullable": true,
            "type": "string"
           },
           {
            "metadata": {},
            "name": "CustomerName",
            "nullable": true,
            "type": "string"
           },
           {
            "metadata": {},
            "name": "ProductID",
            "nullable": true,
            "type": "string"
           },
           {
            "metadata": {},
            "name": "ProductName",
            "nullable": true,
            "type": "string"
           },
           {
            "metadata": {},
            "name": "Category",
            "nullable": true,
            "type": "string"
           },
           {
            "metadata": {},
            "name": "SubCategory",
            "nullable": true,
            "type": "string"
           },
           {
            "metadata": {},
            "name": "Quantity",
            "nullable": true,
            "type": "integer"
           },
           {
            "metadata": {},
            "name": "UnitPrice",
            "nullable": true,
            "type": "double"
           },
           {
            "metadata": {},
            "name": "TotalAmount",
            "nullable": true,
            "type": "double"
           },
           {
            "metadata": {},
            "name": "Region",
            "nullable": true,
            "type": "string"
           }
          ],
          "type": "struct"
         },
         "tableIdentifier": null,
         "typeStr": "pyspark.sql.connect.dataframe.DataFrame"
        }
       ],
       "dbfsResultPath": null,
       "isJsonSchema": true,
       "metadata": {
        "createTempViewForImplicitDf": true,
        "dataframeName": "_sqldf",
        "executionCount": 26
       },
       "overflow": false,
       "plotOptions": {
        "customPlotOptions": {},
        "displayType": "table",
        "pivotAggregation": null,
        "pivotColumns": null,
        "xColumns": null,
        "yColumns": null
       },
       "removedWidgets": [],
       "schema": [
        {
         "metadata": "{}",
         "name": "OrderID",
         "type": "\"integer\""
        },
        {
         "metadata": "{\"__detected_date_formats\": \"yyyy-M-d\"}",
         "name": "OrderDate",
         "type": "\"date\""
        },
        {
         "metadata": "{}",
         "name": "CustomerID",
         "type": "\"string\""
        },
        {
         "metadata": "{}",
         "name": "CustomerName",
         "type": "\"string\""
        },
        {
         "metadata": "{}",
         "name": "ProductID",
         "type": "\"string\""
        },
        {
         "metadata": "{}",
         "name": "ProductName",
         "type": "\"string\""
        },
        {
         "metadata": "{}",
         "name": "Category",
         "type": "\"string\""
        },
        {
         "metadata": "{}",
         "name": "SubCategory",
         "type": "\"string\""
        },
        {
         "metadata": "{}",
         "name": "Quantity",
         "type": "\"integer\""
        },
        {
         "metadata": "{}",
         "name": "UnitPrice",
         "type": "\"double\""
        },
        {
         "metadata": "{}",
         "name": "TotalAmount",
         "type": "\"double\""
        },
        {
         "metadata": "{}",
         "name": "Region",
         "type": "\"string\""
        }
       ],
       "type": "table"
      }
     },
     "output_type": "display_data"
    }
   ],
   "source": [
    "%sql\n",
    "select * from old \n",
    "where OrderID='102'\n",
    "order by OrderID asc;"
   ]
  },
  {
   "cell_type": "code",
   "execution_count": 0,
   "metadata": {
    "application/vnd.databricks.v1+cell": {
     "cellMetadata": {
      "byteLimit": 2048000,
      "rowLimit": 10000
     },
     "inputWidgets": {},
     "nuid": "65ad6f48-e89c-4b6e-aed9-2ce0f365aaf1",
     "showTitle": false,
     "tableResultSettingsMap": {},
     "title": ""
    }
   },
   "outputs": [],
   "source": [
    "df_new=spark.read.format('delta')\\\n",
    "    .option('versionAsOf',0)\\\n",
    "        .table('silver.sales_2k')"
   ]
  },
  {
   "cell_type": "code",
   "execution_count": 0,
   "metadata": {
    "application/vnd.databricks.v1+cell": {
     "cellMetadata": {
      "byteLimit": 2048000,
      "rowLimit": 10000
     },
     "inputWidgets": {},
     "nuid": "6d6e9198-f503-485b-9d53-455f88ed2a2f",
     "showTitle": false,
     "tableResultSettingsMap": {},
     "title": ""
    }
   },
   "outputs": [],
   "source": [
    "df_new.createOrReplaceTempView(\"new\")"
   ]
  },
  {
   "cell_type": "code",
   "execution_count": 0,
   "metadata": {
    "application/vnd.databricks.v1+cell": {
     "cellMetadata": {
      "byteLimit": 2048000,
      "implicitDf": true,
      "rowLimit": 10000
     },
     "inputWidgets": {},
     "nuid": "9ed3515a-6533-44a6-979f-088327879f62",
     "showTitle": false,
     "tableResultSettingsMap": {},
     "title": ""
    }
   },
   "outputs": [
    {
     "output_type": "display_data",
     "data": {
      "text/html": [
       "<style scoped>\n",
       "  .table-result-container {\n",
       "    max-height: 300px;\n",
       "    overflow: auto;\n",
       "  }\n",
       "  table, th, td {\n",
       "    border: 1px solid black;\n",
       "    border-collapse: collapse;\n",
       "  }\n",
       "  th, td {\n",
       "    padding: 5px;\n",
       "  }\n",
       "  th {\n",
       "    text-align: left;\n",
       "  }\n",
       "</style><div class='table-result-container'><table class='table-result'><thead style='background-color: white'><tr><th>OrderID</th><th>OrderDate</th><th>CustomerID</th><th>CustomerName</th><th>ProductID</th><th>ProductName</th><th>Category</th><th>SubCategory</th><th>Quantity</th><th>UnitPrice</th><th>TotalAmount</th><th>Region</th></tr></thead><tbody><tr><td>102</td><td>2024-11-16</td><td>C5957</td><td>Larry Garcia</td><td>P6022</td><td>Mouse</td><td>Accessories</td><td>Input Devices</td><td>6</td><td>633.12</td><td>3798.72</td><td>North</td></tr></tbody></table></div>"
      ]
     },
     "metadata": {
      "application/vnd.databricks.v1+output": {
       "addedWidgets": {},
       "aggData": [],
       "aggError": "",
       "aggOverflow": false,
       "aggSchema": [],
       "aggSeriesLimitReached": false,
       "aggType": "",
       "arguments": {},
       "columnCustomDisplayInfos": {},
       "data": [
        [
         102,
         "2024-11-16",
         "C5957",
         "Larry Garcia",
         "P6022",
         "Mouse",
         "Accessories",
         "Input Devices",
         6,
         633.12,
         3798.72,
         "North"
        ]
       ],
       "datasetInfos": [
        {
         "name": "_sqldf",
         "schema": {
          "fields": [
           {
            "metadata": {},
            "name": "OrderID",
            "nullable": true,
            "type": "integer"
           },
           {
            "metadata": {
             "__detected_date_formats": "yyyy-M-d"
            },
            "name": "OrderDate",
            "nullable": true,
            "type": "date"
           },
           {
            "metadata": {},
            "name": "CustomerID",
            "nullable": true,
            "type": "string"
           },
           {
            "metadata": {},
            "name": "CustomerName",
            "nullable": true,
            "type": "string"
           },
           {
            "metadata": {},
            "name": "ProductID",
            "nullable": true,
            "type": "string"
           },
           {
            "metadata": {},
            "name": "ProductName",
            "nullable": true,
            "type": "string"
           },
           {
            "metadata": {},
            "name": "Category",
            "nullable": true,
            "type": "string"
           },
           {
            "metadata": {},
            "name": "SubCategory",
            "nullable": true,
            "type": "string"
           },
           {
            "metadata": {},
            "name": "Quantity",
            "nullable": true,
            "type": "integer"
           },
           {
            "metadata": {},
            "name": "UnitPrice",
            "nullable": true,
            "type": "double"
           },
           {
            "metadata": {},
            "name": "TotalAmount",
            "nullable": true,
            "type": "double"
           },
           {
            "metadata": {},
            "name": "Region",
            "nullable": true,
            "type": "string"
           }
          ],
          "type": "struct"
         },
         "tableIdentifier": null,
         "typeStr": "pyspark.sql.connect.dataframe.DataFrame"
        }
       ],
       "dbfsResultPath": null,
       "isJsonSchema": true,
       "metadata": {
        "createTempViewForImplicitDf": true,
        "dataframeName": "_sqldf",
        "executionCount": 33
       },
       "overflow": false,
       "plotOptions": {
        "customPlotOptions": {},
        "displayType": "table",
        "pivotAggregation": null,
        "pivotColumns": null,
        "xColumns": null,
        "yColumns": null
       },
       "removedWidgets": [],
       "schema": [
        {
         "metadata": "{}",
         "name": "OrderID",
         "type": "\"integer\""
        },
        {
         "metadata": "{\"__detected_date_formats\": \"yyyy-M-d\"}",
         "name": "OrderDate",
         "type": "\"date\""
        },
        {
         "metadata": "{}",
         "name": "CustomerID",
         "type": "\"string\""
        },
        {
         "metadata": "{}",
         "name": "CustomerName",
         "type": "\"string\""
        },
        {
         "metadata": "{}",
         "name": "ProductID",
         "type": "\"string\""
        },
        {
         "metadata": "{}",
         "name": "ProductName",
         "type": "\"string\""
        },
        {
         "metadata": "{}",
         "name": "Category",
         "type": "\"string\""
        },
        {
         "metadata": "{}",
         "name": "SubCategory",
         "type": "\"string\""
        },
        {
         "metadata": "{}",
         "name": "Quantity",
         "type": "\"integer\""
        },
        {
         "metadata": "{}",
         "name": "UnitPrice",
         "type": "\"double\""
        },
        {
         "metadata": "{}",
         "name": "TotalAmount",
         "type": "\"double\""
        },
        {
         "metadata": "{}",
         "name": "Region",
         "type": "\"string\""
        }
       ],
       "type": "table"
      }
     },
     "output_type": "display_data"
    }
   ],
   "source": [
    "%sql\n",
    "select * from new\n",
    "where OrderID='102'\n",
    "order by OrderID asc\n"
   ]
  },
  {
   "cell_type": "code",
   "execution_count": 0,
   "metadata": {
    "application/vnd.databricks.v1+cell": {
     "cellMetadata": {
      "byteLimit": 2048000,
      "implicitDf": true,
      "rowLimit": 10000
     },
     "inputWidgets": {},
     "nuid": "96259e8d-bc01-4463-8268-5ab85d161b84",
     "showTitle": false,
     "tableResultSettingsMap": {},
     "title": ""
    }
   },
   "outputs": [
    {
     "output_type": "stream",
     "name": "stdout",
     "output_type": "stream",
     "text": [
      "+-------+----------------+\n|Month  |FormattedRevenue|\n+-------+----------------+\n|2024-06|₹2,975,035.3890 |\n|2024-07|₹4,719,052.8290 |\n|2024-08|₹4,622,362.5700 |\n|2024-09|₹4,682,603.2400 |\n|2024-10|₹4,801,087.5300 |\n|2024-11|₹4,621,143.3990 |\n|2024-12|₹4,885,781.9600 |\n|2025-01|₹4,593,673.1900 |\n|2025-02|₹4,193,491.5700 |\n|2025-03|₹4,739,078.9890 |\n|2025-04|₹4,684,102.0190 |\n|2025-05|₹4,815,200.0290 |\n|2025-06|₹1,662,193.8690 |\n+-------+----------------+\n\n"
     ]
    }
   ],
   "source": [
    "def format_currency(amount):\n",
    "    return f\"₹{amount:,.4f}\"\n",
    "\n",
    "\n",
    "format_currency_udf = udf(format_currency, StringType())\n",
    "\n",
    "\n",
    "g=spark.sql(\"\"\"\n",
    "SELECT \n",
    "  date_format(OrderDate, 'yyyy-MM') AS Month,\n",
    "  FLOOR(SUM(TotalAmount),3) AS MonthlyRevenue\n",
    "FROM silver.sales_2k\n",
    "GROUP BY Month\n",
    "ORDER BY Month\n",
    "\"\"\")\n",
    "\n",
    "formatted_df = g.withColumn(\"FormattedRevenue\", format_currency_udf(col(\"MonthlyRevenue\")))\n",
    "formatted_df.select(\"Month\", \"FormattedRevenue\").show(truncate=False)"
   ]
  },
  {
   "cell_type": "code",
   "execution_count": 0,
   "metadata": {
    "application/vnd.databricks.v1+cell": {
     "cellMetadata": {
      "byteLimit": 2048000,
      "rowLimit": 10000
     },
     "inputWidgets": {},
     "nuid": "f1699e16-7ff3-4395-855a-a3b65ac0a35a",
     "showTitle": false,
     "tableResultSettingsMap": {},
     "title": ""
    }
   },
   "outputs": [
    {
     "output_type": "execute_result",
     "data": {
      "text/plain": [
       "['Month', 'MonthlyRevenue', 'FormattedRevenue']"
      ]
     },
     "execution_count": 35,
     "metadata": {},
     "output_type": "execute_result"
    }
   ],
   "source": [
    "formatted_df.columns"
   ]
  },
  {
   "cell_type": "code",
   "execution_count": 0,
   "metadata": {
    "application/vnd.databricks.v1+cell": {
     "cellMetadata": {
      "byteLimit": 2048000,
      "rowLimit": 10000
     },
     "inputWidgets": {},
     "nuid": "29c65898-7124-4f0d-9436-351c95d081e4",
     "showTitle": false,
     "tableResultSettingsMap": {},
     "title": ""
    }
   },
   "outputs": [],
   "source": [
    "formatted_df=formatted_df.select('Month','FormattedRevenue')"
   ]
  },
  {
   "cell_type": "code",
   "execution_count": 0,
   "metadata": {
    "application/vnd.databricks.v1+cell": {
     "cellMetadata": {
      "byteLimit": 2048000,
      "rowLimit": 10000
     },
     "inputWidgets": {},
     "nuid": "b6de22d3-4542-47d2-be97-4faed70fdf86",
     "showTitle": false,
     "tableResultSettingsMap": {},
     "title": ""
    }
   },
   "outputs": [],
   "source": [
    "formatted_df=formatted_df.withColumnRenamed('FormattedRevenue','MonthlyRevenue')"
   ]
  },
  {
   "cell_type": "code",
   "execution_count": 0,
   "metadata": {
    "application/vnd.databricks.v1+cell": {
     "cellMetadata": {
      "byteLimit": 2048000,
      "rowLimit": 10000
     },
     "inputWidgets": {},
     "nuid": "a753753f-725c-4cdd-8ff9-f7c4006569fb",
     "showTitle": false,
     "tableResultSettingsMap": {},
     "title": ""
    }
   },
   "outputs": [],
   "source": [
    "formatted_df.write.mode(\"overwrite\").option(\"overwriteSchema\", \"true\").saveAsTable(\"gold.MonthlyRevenue24_25\")"
   ]
  },
  {
   "cell_type": "code",
   "execution_count": 0,
   "metadata": {
    "application/vnd.databricks.v1+cell": {
     "cellMetadata": {},
     "inputWidgets": {},
     "nuid": "3859d45d-a2f2-4624-8f19-38e6aa3707bb",
     "showTitle": false,
     "tableResultSettingsMap": {},
     "title": ""
    }
   },
   "outputs": [],
   "source": []
  }
 ],
 "metadata": {
  "application/vnd.databricks.v1+notebook": {
   "computePreferences": null,
   "dashboards": [],
   "environmentMetadata": {
    "base_environment": "",
    "environment_version": "2"
   },
   "inputWidgetPreferences": null,
   "language": "python",
   "notebookMetadata": {
    "mostRecentlyExecutedCommandWithImplicitDF": {
     "commandId": 696330970528947,
     "dataframes": [
      "_sqldf"
     ]
    },
    "pythonIndentUnit": 4
   },
   "notebookName": "Sales-Upserting-old",
   "widgets": {}
  },
  "language_info": {
   "name": "python"
  }
 },
 "nbformat": 4,
 "nbformat_minor": 0
}